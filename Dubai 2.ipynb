{
 "cells": [
  {
   "cell_type": "code",
   "execution_count": 23,
   "id": "5c42c97a",
   "metadata": {},
   "outputs": [],
   "source": [
    "import pandas as pd\n",
    "import numpy as np\n",
    "import matplotlib.pyplot as plt\n",
    "import seaborn as sns\n",
    "\n",
    "import requests\n",
    "\n",
    "from sklearn.linear_model import LinearRegression, Ridge\n",
    "from sklearn.metrics import mean_absolute_error, mean_squared_error\n",
    "from sklearn.pipeline import make_pipeline, Pipeline\n",
    "from sklearn.compose import ColumnTransformer\n",
    "from sklearn.preprocessing import OneHotEncoder\n",
    "from sklearn.preprocessing import StandardScaler\n",
    "from sklearn.impute import SimpleImputer\n",
    "\n",
    "\n",
    "from sklearn.model_selection import train_test_split\n",
    "\n",
    "import statsmodels.api as sm\n",
    "import statsmodels.stats.api as sms\n",
    "from statsmodels.stats.diagnostic import het_white\n",
    "# from category_encoders import OneHotEncoder"
   ]
  },
  {
   "cell_type": "code",
   "execution_count": 2,
   "id": "2df6c728",
   "metadata": {},
   "outputs": [],
   "source": [
    "# Data set of Dubai Real Estate from 01/01/2021 till 11/01/2023\n",
    "df = pd.read_csv('transactions-2023-01-11.csv')"
   ]
  },
  {
   "cell_type": "code",
   "execution_count": 3,
   "id": "7ac3813a",
   "metadata": {},
   "outputs": [],
   "source": [
    "def impute_data(df):\n",
    "    df[\"Transaction Date\"] = pd.to_datetime(df[\"Transaction Date\"])\n",
    "    # Replace NaN values with Propety Type\n",
    "    df[\"Property Sub Type\"] = df[\"Property Sub Type\"].fillna(\"Land\")\n",
    "    # Replace Nan values where there is no closest Metro Station or Mall with \"No metro around\", \"No mall around\"\n",
    "    df[\"Nearest Metro\"] = df[\"Nearest Metro\"].fillna(\"No metro around\")\n",
    "    df[\"Nearest Mall\"] = df[\"Nearest Mall\"].fillna(\"No mall around\")\n",
    "    df[\"Nearest Landmark\"] = df[\"Nearest Landmark\"].fillna(\"No landmark around\")\n",
    "    return df"
   ]
  },
  {
   "cell_type": "code",
   "execution_count": 4,
   "id": "134416d9",
   "metadata": {},
   "outputs": [],
   "source": [
    "def drop_excess_columns(data):\n",
    "    # Drop high cardinality columns\n",
    "    data = data.drop(columns=[\"Transaction Number\", \"Property ID\", \"Transaction Size (sq.m)\", \"Parking\", \"Project\"])\n",
    "    # Drop low-cardinality columns\n",
    "    data = data.drop(columns=[\"Registration type\", \"Is Free Hold?\", \"Master Project\"])\n",
    "    # Drop leaky columns\n",
    "    data = data.drop(columns=[\"Transaction sub type\", \"Property Type\", \"Room(s)\", \"No. of Buyer\", \"No. of Seller\"])\n",
    "    return data"
   ]
  },
  {
   "cell_type": "code",
   "execution_count": 5,
   "id": "2f19ad47",
   "metadata": {},
   "outputs": [],
   "source": [
    "def get_oil_price():\n",
    "    # data from https://tradingeconomics.com/commodity/crude-oil\n",
    "    r = requests.get('https://markets.tradingeconomics.com/chart?s=cl1:com&interval=1w&span=5y&securify=new&url=/commodity/crude-oil&AUTH=nCUl2XKce%2BoKz2Gux8jbnsBR9lI4I5ttOWajwJM4oCel63SvMd94HQyeKvWrZV4R&ohlc=0')\n",
    "    oil_data = pd.DataFrame(r.json()['series'][0]['data']).rename(columns={\"y\": \"price\"})\n",
    "    oil_data = oil_data[(oil_data['date'] > '2020-12-31') & (oil_data['date'] < '2022-01-01')]\n",
    "\n",
    "    return oil_data"
   ]
  },
  {
   "cell_type": "code",
   "execution_count": 6,
   "id": "9ae2f1a6",
   "metadata": {},
   "outputs": [],
   "source": [
    "def drop_period_after_war(data):\n",
    "    war_date = '2022-02-24'\n",
    "    return data[data['Transaction Date'] < war_date]"
   ]
  },
  {
   "cell_type": "code",
   "execution_count": 7,
   "id": "fa0f2bff",
   "metadata": {},
   "outputs": [],
   "source": [
    "# create empty dictionary with columns as keys by list comprehension\n",
    "def quar_dict2(columns):  # takes as input list of column's names\n",
    "    dict_keys = {column: None for column in columns}\n",
    "    return dict_keys"
   ]
  },
  {
   "cell_type": "code",
   "execution_count": 8,
   "id": "e916504c",
   "metadata": {},
   "outputs": [],
   "source": [
    "def from_iterable(iterables):\n",
    "    # chain.from_iterable(['ABC', 'DEF']) --> A B C D E F\n",
    "    for it in iterables:\n",
    "        for element in it:\n",
    "            yield element"
   ]
  },
  {
   "cell_type": "code",
   "execution_count": 9,
   "id": "998b9823",
   "metadata": {},
   "outputs": [],
   "source": [
    "df = impute_data(df)\n",
    "df = drop_excess_columns(df)\n",
    "df = drop_period_after_war(df)\n",
    "df = df.drop(columns=\"Transaction Date\")"
   ]
  },
  {
   "cell_type": "code",
   "execution_count": 10,
   "id": "98d83627",
   "metadata": {},
   "outputs": [],
   "source": [
    "def split (df, target=\"Amount\"):\n",
    "    # subset target vector from explanatory matrix\n",
    "    target = target\n",
    "    y = df[target]  \n",
    "    X = df.drop(columns=[\"Area\", \"Property Sub Type\", \"Nearest Metro\", \"Nearest Mall\", \"Nearest Landmark\", \"Amount\"]) # [target]\n",
    "    return y, X\n"
   ]
  },
  {
   "cell_type": "code",
   "execution_count": 11,
   "id": "754a353d",
   "metadata": {},
   "outputs": [
    {
     "data": {
      "text/html": [
       "<div>\n",
       "<style scoped>\n",
       "    .dataframe tbody tr th:only-of-type {\n",
       "        vertical-align: middle;\n",
       "    }\n",
       "\n",
       "    .dataframe tbody tr th {\n",
       "        vertical-align: top;\n",
       "    }\n",
       "\n",
       "    .dataframe thead th {\n",
       "        text-align: right;\n",
       "    }\n",
       "</style>\n",
       "<table border=\"1\" class=\"dataframe\">\n",
       "  <thead>\n",
       "    <tr style=\"text-align: right;\">\n",
       "      <th></th>\n",
       "      <th>Transaction Type</th>\n",
       "      <th>Usage</th>\n",
       "      <th>Property Size (sq.m)</th>\n",
       "    </tr>\n",
       "  </thead>\n",
       "  <tbody>\n",
       "    <tr>\n",
       "      <th>0</th>\n",
       "      <td>Mortgage</td>\n",
       "      <td>Residential</td>\n",
       "      <td>138.93</td>\n",
       "    </tr>\n",
       "    <tr>\n",
       "      <th>1</th>\n",
       "      <td>Mortgage</td>\n",
       "      <td>Residential</td>\n",
       "      <td>87.26</td>\n",
       "    </tr>\n",
       "  </tbody>\n",
       "</table>\n",
       "</div>"
      ],
      "text/plain": [
       "  Transaction Type        Usage  Property Size (sq.m)\n",
       "0         Mortgage  Residential                138.93\n",
       "1         Mortgage  Residential                 87.26"
      ]
     },
     "execution_count": 11,
     "metadata": {},
     "output_type": "execute_result"
    }
   ],
   "source": [
    "y, X = split(df, target=\"Amount\")\n",
    "y.reset_index(drop=True, inplace=True)\n",
    "X.head(2)"
   ]
  },
  {
   "cell_type": "code",
   "execution_count": 12,
   "id": "602ecbd3",
   "metadata": {},
   "outputs": [],
   "source": [
    "# Get numeric and categorical features\n",
    "num_features = list(X._get_numeric_data().columns)\n",
    "cat_features = list(set(X.columns) - set(num_features))"
   ]
  },
  {
   "cell_type": "code",
   "execution_count": 13,
   "id": "d2d37618",
   "metadata": {},
   "outputs": [
    {
     "data": {
      "text/html": [
       "<div>\n",
       "<style scoped>\n",
       "    .dataframe tbody tr th:only-of-type {\n",
       "        vertical-align: middle;\n",
       "    }\n",
       "\n",
       "    .dataframe tbody tr th {\n",
       "        vertical-align: top;\n",
       "    }\n",
       "\n",
       "    .dataframe thead th {\n",
       "        text-align: right;\n",
       "    }\n",
       "</style>\n",
       "<table border=\"1\" class=\"dataframe\">\n",
       "  <thead>\n",
       "    <tr style=\"text-align: right;\">\n",
       "      <th></th>\n",
       "      <th>const</th>\n",
       "      <th>Property Size (sq.m)</th>\n",
       "      <th>Transaction Type_Gifts</th>\n",
       "      <th>Transaction Type_Mortgage</th>\n",
       "      <th>Transaction Type_Sales</th>\n",
       "      <th>Usage_Commercial</th>\n",
       "      <th>Usage_Residential</th>\n",
       "    </tr>\n",
       "  </thead>\n",
       "  <tbody>\n",
       "    <tr>\n",
       "      <th>0</th>\n",
       "      <td>1.0</td>\n",
       "      <td>138.93</td>\n",
       "      <td>0.0</td>\n",
       "      <td>1.0</td>\n",
       "      <td>0.0</td>\n",
       "      <td>0.0</td>\n",
       "      <td>1.0</td>\n",
       "    </tr>\n",
       "    <tr>\n",
       "      <th>1</th>\n",
       "      <td>1.0</td>\n",
       "      <td>87.26</td>\n",
       "      <td>0.0</td>\n",
       "      <td>1.0</td>\n",
       "      <td>0.0</td>\n",
       "      <td>0.0</td>\n",
       "      <td>1.0</td>\n",
       "    </tr>\n",
       "  </tbody>\n",
       "</table>\n",
       "</div>"
      ],
      "text/plain": [
       "   const  Property Size (sq.m)  Transaction Type_Gifts  \\\n",
       "0    1.0                138.93                     0.0   \n",
       "1    1.0                 87.26                     0.0   \n",
       "\n",
       "   Transaction Type_Mortgage  Transaction Type_Sales  Usage_Commercial  \\\n",
       "0                        1.0                     0.0               0.0   \n",
       "1                        1.0                     0.0               0.0   \n",
       "\n",
       "   Usage_Residential  \n",
       "0                1.0  \n",
       "1                1.0  "
      ]
     },
     "execution_count": 13,
     "metadata": {},
     "output_type": "execute_result"
    }
   ],
   "source": [
    "ohe_for_sm = OneHotEncoder(handle_unknown=\"ignore\")\n",
    "X_for_sm_cat = ohe_for_sm.fit(X[cat_features]).transform(X[cat_features]).toarray()\n",
    "# len(pd.DataFrame(X_for_sm_cat, columns=ohe_for_sm.get_feature_names_out()))\n",
    "X_for_sm_num = sm.add_constant(X[num_features]).reset_index(drop=True)\n",
    "X_for_sm = pd.concat([X_for_sm_num, pd.DataFrame(X_for_sm_cat, columns=ohe_for_sm.get_feature_names_out()).reset_index(drop=True)], axis=1)\n",
    "pd.DataFrame(X_for_sm).head(2)"
   ]
  },
  {
   "cell_type": "code",
   "execution_count": 14,
   "id": "1abef359",
   "metadata": {},
   "outputs": [],
   "source": [
    "# Linear Regression Model\n",
    "model = sm.OLS(y, X_for_sm).fit()"
   ]
  },
  {
   "cell_type": "code",
   "execution_count": 15,
   "id": "d5bf7edb",
   "metadata": {},
   "outputs": [
    {
     "data": {
      "text/html": [
       "<table class=\"simpletable\">\n",
       "<caption>OLS Regression Results</caption>\n",
       "<tr>\n",
       "  <th>Dep. Variable:</th>         <td>Amount</td>      <th>  R-squared:         </th>  <td>   0.304</td>  \n",
       "</tr>\n",
       "<tr>\n",
       "  <th>Model:</th>                   <td>OLS</td>       <th>  Adj. R-squared:    </th>  <td>   0.304</td>  \n",
       "</tr>\n",
       "<tr>\n",
       "  <th>Method:</th>             <td>Least Squares</td>  <th>  F-statistic:       </th>  <td>1.167e+04</td> \n",
       "</tr>\n",
       "<tr>\n",
       "  <th>Date:</th>             <td>Mon, 13 Feb 2023</td> <th>  Prob (F-statistic):</th>   <td>  0.00</td>   \n",
       "</tr>\n",
       "<tr>\n",
       "  <th>Time:</th>                 <td>01:59:01</td>     <th>  Log-Likelihood:    </th> <td>-1.9856e+06</td>\n",
       "</tr>\n",
       "<tr>\n",
       "  <th>No. Observations:</th>      <td>106939</td>      <th>  AIC:               </th>  <td>3.971e+06</td> \n",
       "</tr>\n",
       "<tr>\n",
       "  <th>Df Residuals:</th>          <td>106934</td>      <th>  BIC:               </th>  <td>3.971e+06</td> \n",
       "</tr>\n",
       "<tr>\n",
       "  <th>Df Model:</th>              <td>     4</td>      <th>                     </th>      <td> </td>     \n",
       "</tr>\n",
       "<tr>\n",
       "  <th>Covariance Type:</th>      <td>nonrobust</td>    <th>                     </th>      <td> </td>     \n",
       "</tr>\n",
       "</table>\n",
       "<table class=\"simpletable\">\n",
       "<tr>\n",
       "              <td></td>                 <th>coef</th>     <th>std err</th>      <th>t</th>      <th>P>|t|</th>  <th>[0.025</th>    <th>0.975]</th>  \n",
       "</tr>\n",
       "<tr>\n",
       "  <th>const</th>                     <td> 3.451e+06</td> <td> 1.25e+05</td> <td>   27.650</td> <td> 0.000</td> <td> 3.21e+06</td> <td>  3.7e+06</td>\n",
       "</tr>\n",
       "<tr>\n",
       "  <th>Property Size (sq.m)</th>      <td> 2454.8072</td> <td>   11.558</td> <td>  212.391</td> <td> 0.000</td> <td> 2432.154</td> <td> 2477.461</td>\n",
       "</tr>\n",
       "<tr>\n",
       "  <th>Transaction Type_Gifts</th>    <td> 1.339e+06</td> <td> 3.22e+05</td> <td>    4.157</td> <td> 0.000</td> <td> 7.08e+05</td> <td> 1.97e+06</td>\n",
       "</tr>\n",
       "<tr>\n",
       "  <th>Transaction Type_Mortgage</th> <td> 1.437e+06</td> <td> 1.71e+05</td> <td>    8.409</td> <td> 0.000</td> <td>  1.1e+06</td> <td> 1.77e+06</td>\n",
       "</tr>\n",
       "<tr>\n",
       "  <th>Transaction Type_Sales</th>    <td> 6.747e+05</td> <td> 1.53e+05</td> <td>    4.404</td> <td> 0.000</td> <td> 3.74e+05</td> <td> 9.75e+05</td>\n",
       "</tr>\n",
       "<tr>\n",
       "  <th>Usage_Commercial</th>          <td> 6.248e+06</td> <td>  2.4e+05</td> <td>   25.988</td> <td> 0.000</td> <td> 5.78e+06</td> <td> 6.72e+06</td>\n",
       "</tr>\n",
       "<tr>\n",
       "  <th>Usage_Residential</th>         <td>-2.797e+06</td> <td> 1.53e+05</td> <td>  -18.293</td> <td> 0.000</td> <td> -3.1e+06</td> <td> -2.5e+06</td>\n",
       "</tr>\n",
       "</table>\n",
       "<table class=\"simpletable\">\n",
       "<tr>\n",
       "  <th>Omnibus:</th>       <td>373996.989</td> <th>  Durbin-Watson:     </th>     <td>   1.958</td>    \n",
       "</tr>\n",
       "<tr>\n",
       "  <th>Prob(Omnibus):</th>   <td> 0.000</td>   <th>  Jarque-Bera (JB):  </th> <td>525382086271.190</td>\n",
       "</tr>\n",
       "<tr>\n",
       "  <th>Skew:</th>            <td>67.190</td>   <th>  Prob(JB):          </th>     <td>    0.00</td>    \n",
       "</tr>\n",
       "<tr>\n",
       "  <th>Kurtosis:</th>       <td>10860.802</td> <th>  Cond. No.          </th>     <td>6.36e+18</td>    \n",
       "</tr>\n",
       "</table><br/><br/>Notes:<br/>[1] Standard Errors assume that the covariance matrix of the errors is correctly specified.<br/>[2] The smallest eigenvalue is 1.47e-25. This might indicate that there are<br/>strong multicollinearity problems or that the design matrix is singular."
      ],
      "text/plain": [
       "<class 'statsmodels.iolib.summary.Summary'>\n",
       "\"\"\"\n",
       "                            OLS Regression Results                            \n",
       "==============================================================================\n",
       "Dep. Variable:                 Amount   R-squared:                       0.304\n",
       "Model:                            OLS   Adj. R-squared:                  0.304\n",
       "Method:                 Least Squares   F-statistic:                 1.167e+04\n",
       "Date:                Mon, 13 Feb 2023   Prob (F-statistic):               0.00\n",
       "Time:                        01:59:01   Log-Likelihood:            -1.9856e+06\n",
       "No. Observations:              106939   AIC:                         3.971e+06\n",
       "Df Residuals:                  106934   BIC:                         3.971e+06\n",
       "Df Model:                           4                                         \n",
       "Covariance Type:            nonrobust                                         \n",
       "=============================================================================================\n",
       "                                coef    std err          t      P>|t|      [0.025      0.975]\n",
       "---------------------------------------------------------------------------------------------\n",
       "const                      3.451e+06   1.25e+05     27.650      0.000    3.21e+06     3.7e+06\n",
       "Property Size (sq.m)       2454.8072     11.558    212.391      0.000    2432.154    2477.461\n",
       "Transaction Type_Gifts     1.339e+06   3.22e+05      4.157      0.000    7.08e+05    1.97e+06\n",
       "Transaction Type_Mortgage  1.437e+06   1.71e+05      8.409      0.000     1.1e+06    1.77e+06\n",
       "Transaction Type_Sales     6.747e+05   1.53e+05      4.404      0.000    3.74e+05    9.75e+05\n",
       "Usage_Commercial           6.248e+06    2.4e+05     25.988      0.000    5.78e+06    6.72e+06\n",
       "Usage_Residential         -2.797e+06   1.53e+05    -18.293      0.000    -3.1e+06    -2.5e+06\n",
       "==============================================================================\n",
       "Omnibus:                   373996.989   Durbin-Watson:                   1.958\n",
       "Prob(Omnibus):                  0.000   Jarque-Bera (JB):     525382086271.190\n",
       "Skew:                          67.190   Prob(JB):                         0.00\n",
       "Kurtosis:                   10860.802   Cond. No.                     6.36e+18\n",
       "==============================================================================\n",
       "\n",
       "Notes:\n",
       "[1] Standard Errors assume that the covariance matrix of the errors is correctly specified.\n",
       "[2] The smallest eigenvalue is 1.47e-25. This might indicate that there are\n",
       "strong multicollinearity problems or that the design matrix is singular.\n",
       "\"\"\""
      ]
     },
     "execution_count": 15,
     "metadata": {},
     "output_type": "execute_result"
    }
   ],
   "source": [
    "model.summary()"
   ]
  },
  {
   "cell_type": "markdown",
   "id": "2ffb5170",
   "metadata": {},
   "source": [
    "### Normality of the residuals"
   ]
  },
  {
   "cell_type": "code",
   "execution_count": 27,
   "id": "836291cb",
   "metadata": {},
   "outputs": [],
   "source": [
    "# Jarque-Bera test:\n",
    "def jarque_bera_test (model):\n",
    "    name = [\"Jarque-Bera\", \"Chi^2 two-tail prob.\", \"Skew\", \"Kurtosis\"]\n",
    "    test = sms.jarque_bera(model.resid)\n",
    "    output = dict(zip(name, test))\n",
    "    return output"
   ]
  },
  {
   "cell_type": "code",
   "execution_count": null,
   "id": "4d272561",
   "metadata": {},
   "outputs": [],
   "source": []
  },
  {
   "cell_type": "code",
   "execution_count": 20,
   "id": "f27c8ba7",
   "metadata": {},
   "outputs": [],
   "source": [
    "# Heteroskedasticity tests - не понятно почему не работает-_-\n",
    "def white_test_het(model):\n",
    "    # White test\n",
    "    residuals_array = model.resid\n",
    "\n",
    "    #perform White's test\n",
    "    white_test = sm.stats.diagnostic.het_white(residuals_array,  model.model.exog)\n",
    "\n",
    "    #define labels to use for output of White's test\n",
    "    labels = ['Test Statistic', 'Test Statistic p-value', 'F-Statistic', 'F-Test p-value']\n",
    "    output = dict(zip(labels, np.around(white_test, 2)))\n",
    "    #print results of White's test\n",
    "    print(dict(zip(labels, np.around(white_test, 2))))\n",
    "    return output"
   ]
  },
  {
   "cell_type": "code",
   "execution_count": null,
   "id": "1a399f1e",
   "metadata": {},
   "outputs": [],
   "source": []
  },
  {
   "cell_type": "code",
   "execution_count": null,
   "id": "9d040d1e",
   "metadata": {},
   "outputs": [],
   "source": []
  },
  {
   "cell_type": "code",
   "execution_count": null,
   "id": "6ff1a94c",
   "metadata": {},
   "outputs": [],
   "source": []
  },
  {
   "cell_type": "code",
   "execution_count": null,
   "id": "08f38ce5",
   "metadata": {},
   "outputs": [],
   "source": [
    "sns.regplot(x=pd.DataFrame(X_for_sm)[\"Property Size (sq.m)\"], y=y)\n",
    "plt.xlabel(\"Property Size (sq.m)\")\n",
    "plt.ylabel(\"Price\")\n",
    "plt.title(\"Property Size (sq.m) vs Price\");"
   ]
  }
 ],
 "metadata": {
  "kernelspec": {
   "display_name": "Python 3 (ipykernel)",
   "language": "python",
   "name": "python3"
  },
  "language_info": {
   "codemirror_mode": {
    "name": "ipython",
    "version": 3
   },
   "file_extension": ".py",
   "mimetype": "text/x-python",
   "name": "python",
   "nbconvert_exporter": "python",
   "pygments_lexer": "ipython3",
   "version": "3.8.0"
  }
 },
 "nbformat": 4,
 "nbformat_minor": 5
}
