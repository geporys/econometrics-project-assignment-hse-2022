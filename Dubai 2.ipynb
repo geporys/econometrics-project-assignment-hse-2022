{
 "cells": [
  {
   "cell_type": "code",
   "execution_count": 37,
   "id": "5c42c97a",
   "metadata": {},
   "outputs": [],
   "source": [
    "import pandas as pd\n",
    "import numpy as np\n",
    "import matplotlib.pyplot as plt\n",
    "import seaborn as sns\n",
    "\n",
    "import requests\n",
    "\n",
    "from sklearn.linear_model import LinearRegression, Ridge\n",
    "from sklearn.metrics import mean_absolute_error, mean_squared_error\n",
    "from sklearn.pipeline import make_pipeline, Pipeline\n",
    "from sklearn.compose import ColumnTransformer\n",
    "from sklearn.preprocessing import OneHotEncoder\n",
    "from sklearn.preprocessing import StandardScaler\n",
    "from sklearn.impute import SimpleImputer\n",
    "\n",
    "\n",
    "from sklearn.model_selection import train_test_split\n",
    "\n",
    "import statsmodels.api as sm\n",
    "import statsmodels.stats.api as sms\n",
    "from statsmodels.stats.diagnostic import het_white\n",
    "# from category_encoders import OneHotEncoder"
   ]
  },
  {
   "cell_type": "code",
   "execution_count": 10,
   "id": "2df6c728",
   "metadata": {},
   "outputs": [],
   "source": [
    "# Data set of Dubai Real Estate from 01/01/2021 till 11/01/2023\n",
    "df = pd.read_csv('transactions-2023-01-11.csv')"
   ]
  },
  {
   "cell_type": "code",
   "execution_count": 12,
   "id": "7ac3813a",
   "metadata": {},
   "outputs": [],
   "source": [
    "def impute_data(df):\n",
    "    df[\"Transaction Date\"] = pd.to_datetime(df[\"Transaction Date\"])\n",
    "    # Replace NaN values with Propety Type\n",
    "    df[\"Property Sub Type\"] = df[\"Property Sub Type\"].fillna(\"Land\")\n",
    "    # Replace Nan values where there is no closest Metro Station or Mall with \"No metro around\", \"No mall around\"\n",
    "    df[\"Nearest Metro\"] = df[\"Nearest Metro\"].fillna(\"No metro around\")\n",
    "    df[\"Nearest Mall\"] = df[\"Nearest Mall\"].fillna(\"No mall around\")\n",
    "    df[\"Nearest Landmark\"] = df[\"Nearest Landmark\"].fillna(\"No landmark around\")\n",
    "    return df"
   ]
  },
  {
   "cell_type": "code",
   "execution_count": null,
   "id": "134416d9",
   "metadata": {},
   "outputs": [],
   "source": [
    "def drop_excess_columns(data):\n",
    "    # Drop high cardinality columns\n",
    "    data = data.drop(columns=[\"Transaction Number\", \"Property ID\", \"Transaction Size (sq.m)\", \"Parking\", \"Project\"])\n",
    "    # Drop low-cardinality columns\n",
    "    data = data.drop(columns=[\"Registration type\", \"Is Free Hold?\", \"Master Project\"])\n",
    "    # Drop leaky columns\n",
    "    data = data.drop(columns=[\"Transaction sub type\", \"Property Type\", \"Room(s)\", \"No. of Buyer\", \"No. of Seller\"])\n",
    "    return data"
   ]
  },
  {
   "cell_type": "code",
   "execution_count": null,
   "id": "2f19ad47",
   "metadata": {},
   "outputs": [],
   "source": [
    "def get_oil_price():\n",
    "    # data from https://tradingeconomics.com/commodity/crude-oil\n",
    "    r = requests.get('https://markets.tradingeconomics.com/chart?s=cl1:com&interval=1d&span=5y&securify=new&url=/commodity/crude-oil&AUTH=Iyl9RVWfzjLi7c1HYd9NvPSbYw4QDhtHNC8UlBnpCaBG6anMsTTRMHyqxcJokUmS&ohlc=0')\n",
    "    \n",
    "    oil_data = pd.DataFrame(r.json()['series'][0]['data']).rename(columns={\"y\": \"price\"})\n",
    "    oil_data = oil_data[(oil_data['date'] > '2021-03-01') & (oil_data['date'] < '2022-02-04')]\n",
    "\n",
    "    return oil_data\n",
    "    "
   ]
  },
  {
   "cell_type": "code",
   "execution_count": null,
   "id": "0e58ddbf",
   "metadata": {},
   "outputs": [],
   "source": [
    "# oil_data = get_oil_price()\n",
    "# oil_data"
   ]
  },
  {
   "cell_type": "code",
   "execution_count": null,
   "id": "9ae2f1a6",
   "metadata": {},
   "outputs": [],
   "source": [
    "def drop_period_after_war(data):\n",
    "    war_date = '2022-02-24'\n",
    "    return data[data['Transaction Date'] < war_date]"
   ]
  },
  {
   "cell_type": "code",
   "execution_count": null,
   "id": "fa0f2bff",
   "metadata": {},
   "outputs": [],
   "source": [
    "# create empty dictionary with columns as keys by list comprehension\n",
    "def quar_dict2(columns):  # takes as input list of column's names\n",
    "    dict_keys = {column: None for column in columns}\n",
    "    return dict_keys"
   ]
  },
  {
   "cell_type": "code",
   "execution_count": null,
   "id": "e916504c",
   "metadata": {},
   "outputs": [],
   "source": [
    "def from_iterable(iterables):\n",
    "    # chain.from_iterable(['ABC', 'DEF']) --> A B C D E F\n",
    "    for it in iterables:\n",
    "        for element in it:\n",
    "            yield element"
   ]
  },
  {
   "cell_type": "code",
   "execution_count": null,
   "id": "998b9823",
   "metadata": {},
   "outputs": [],
   "source": [
    "df = impute_data(df)\n",
    "df = drop_excess_columns(df)\n",
    "df = drop_period_after_war(df)\n",
    "df = df.drop(columns=[\"Transaction Date\", \"Area\"])\n",
    "df = df[df['Property Sub Type'].isin(\n",
    "    [\"Commercial\", \"Flat\", \n",
    "     \"Hotel Apartment\", \"Hotel Rooms\", \n",
    "     \"Office\", \"Residential\", \"Residential / Attached Villas\",\n",
    "     \"Residential Flats\", \"Stacked Townhouses\", \"Villa\"]\n",
    ")]"
   ]
  },
  {
   "cell_type": "code",
   "execution_count": null,
   "id": "98d83627",
   "metadata": {},
   "outputs": [],
   "source": [
    "def split (df, target=\"Amount\"):\n",
    "    # subset target vector from explanatory matrix\n",
    "    target = target\n",
    "    y = df[target]\n",
    "    X = df.drop(columns=[target])\n",
    "#    X = df.drop(columns=[\"Area\", \"Property Sub Type\", \"Nearest Metro\", \"Nearest Mall\", \"Nearest Landmark\", \"Amount\"]) # [target]\n",
    "    return y, X\n"
   ]
  },
  {
   "cell_type": "code",
   "execution_count": null,
   "id": "754a353d",
   "metadata": {},
   "outputs": [],
   "source": [
    "y, X = split(df, target=\"Amount\")\n",
    "y.reset_index(drop=True, inplace=True)\n",
    "X.head(2)"
   ]
  },
  {
   "cell_type": "code",
   "execution_count": null,
   "id": "602ecbd3",
   "metadata": {},
   "outputs": [],
   "source": [
    "# Get numeric and categorical features\n",
    "num_features = list(X._get_numeric_data().columns)\n",
    "cat_features = list(set(X.columns) - set(num_features))"
   ]
  },
  {
   "cell_type": "code",
   "execution_count": null,
   "id": "d2d37618",
   "metadata": {},
   "outputs": [],
   "source": [
    "ohe_for_sm = OneHotEncoder(handle_unknown=\"ignore\")\n",
    "X_for_sm_cat = ohe_for_sm.fit(X[cat_features]).transform(X[cat_features]).toarray()\n",
    "# len(pd.DataFrame(X_for_sm_cat, columns=ohe_for_sm.get_feature_names_out()))\n",
    "X_for_sm_num = sm.add_constant(X[num_features]).reset_index(drop=True)\n",
    "X_for_sm = pd.concat([X_for_sm_num, pd.DataFrame(X_for_sm_cat, columns=ohe_for_sm.get_feature_names_out()).reset_index(drop=True)], axis=1)\n",
    "pd.DataFrame(X_for_sm).head(2)"
   ]
  },
  {
   "cell_type": "code",
   "execution_count": null,
   "id": "1abef359",
   "metadata": {},
   "outputs": [],
   "source": [
    "# Linear Regression Model\n",
    "model = sm.OLS(y, X_for_sm).fit()"
   ]
  },
  {
   "cell_type": "code",
   "execution_count": null,
   "id": "d5bf7edb",
   "metadata": {},
   "outputs": [],
   "source": [
    "model.summary()"
   ]
  },
  {
   "cell_type": "markdown",
   "id": "2ffb5170",
   "metadata": {},
   "source": [
    "### Normality of the residuals"
   ]
  },
  {
   "cell_type": "code",
   "execution_count": null,
   "id": "836291cb",
   "metadata": {},
   "outputs": [],
   "source": [
    "# Jarque-Bera test:\n",
    "def jarque_bera_test (model):\n",
    "    name = [\"Jarque-Bera\", \"Chi^2 two-tail prob.\", \"Skew\", \"Kurtosis\"]\n",
    "    test = sms.jarque_bera(model.resid)\n",
    "    output = dict(zip(name, test))\n",
    "    return output"
   ]
  },
  {
   "cell_type": "code",
   "execution_count": null,
   "id": "f27c8ba7",
   "metadata": {},
   "outputs": [],
   "source": [
    "# Heteroskedasticity tests - не понятно почему не работает-_-\n",
    "def white_test_het(model):\n",
    "    # White test\n",
    "    residuals_array = model.resid\n",
    "\n",
    "    #perform White's test\n",
    "    white_test = sm.stats.diagnostic.het_white(residuals_array,  model.model.exog)\n",
    "\n",
    "    #define labels to use for output of White's test\n",
    "    labels = ['Test Statistic', 'Test Statistic p-value', 'F-Statistic', 'F-Test p-value']\n",
    "    output = dict(zip(labels, np.around(white_test, 2)))\n",
    "    #print results of White's test\n",
    "    print(dict(zip(labels, np.around(white_test, 2))))\n",
    "    return output"
   ]
  },
  {
   "cell_type": "markdown",
   "id": "c7d3db01",
   "metadata": {},
   "source": [
    "Part 1A - Classical Regression Analysis <br>\n",
    "a) Choose a model and state the assumptions about the nature of\n",
    "explanatory variables and disturbances. The model should include\n",
    "categorical and continuous explanatory variables as discussed before; <br>\n",
    "- We are using ordinary least squares method. <br>\n",
    "1. Transaction Type - Whether transaction was conducted via direct sale, using mortgage or gifted (Sales 67%, Mort 29%, 4%) <br>\n",
    "2. Usage - Residential or Commercial property (Res 95%, Comm 5%) <br>\n",
    "3. Area - Names of the Dubai's areas <br>\n",
    "4. Property Sub Type -  <br>\n",
    "5. Property Size (sq.m) - Size of property <br>\n",
    "6. Nearest Metro - Name of nearest metro or \"No metro around\" <br>\n",
    "7. Nearest Mall - Name of nearest mall or \"No mall around\" <br>\n",
    "8. Nearest Landmark - Name of nearest landmark or \"No landmark around\" <br>\n"
   ]
  },
  {
   "cell_type": "code",
   "execution_count": null,
   "id": "9d040d1e",
   "metadata": {
    "scrolled": true
   },
   "outputs": [],
   "source": [
    "df[\"Nearest Metro\"].value_counts(normalize=True)"
   ]
  },
  {
   "cell_type": "code",
   "execution_count": null,
   "id": "6ff1a94c",
   "metadata": {},
   "outputs": [],
   "source": [
    "# X[\"Area\"].unique()\n",
    "sub = df[df[\"Nearest Metro\"].str.contains(\"station\")] \n",
    "# for i in sub[\"Property Sub Type\"].unique():\n",
    "#     print(i) 382\n",
    "# sub[\"Property Sub Type\"].unique()\n",
    "sub"
   ]
  },
  {
   "cell_type": "code",
   "execution_count": null,
   "id": "4059327b",
   "metadata": {},
   "outputs": [],
   "source": [
    "mask = df[df['Property Sub Type'].isin(\n",
    "    [\"Commercial\", \"Flat\", \n",
    "     \"Hotel Apartment\", \"Hotel Rooms\", \n",
    "     \"Office\", \"Residential\", \"Residential / Attached Villas\",\n",
    "     \"Residential Flats\", \"Stacked Townhouses\", \"Villa\"]\n",
    ")]\n",
    "# df_sub = df[mask]\n",
    "\n",
    "mask.info()"
   ]
  },
  {
   "cell_type": "code",
   "execution_count": null,
   "id": "be76413e",
   "metadata": {},
   "outputs": [],
   "source": [
    "df_sub = (\n",
    "    df\n",
    "    .groupby(df[\"Property Sub Type\"])\n",
    "    .mean([\"Amount\", \"Property Size (sq.m)\"])\n",
    "    .round(0)\n",
    ")\n",
    "df_sub"
   ]
  },
  {
   "cell_type": "code",
   "execution_count": null,
   "id": "08f38ce5",
   "metadata": {},
   "outputs": [],
   "source": [
    "sns.regplot(x=pd.DataFrame(X_for_sm)[\"Property Size (sq.m)\"], y=y)\n",
    "plt.xlabel(\"Property Size (sq.m)\")\n",
    "plt.ylabel(\"Price\")\n",
    "plt.title(\"Property Size (sq.m) vs Price\");"
   ]
  },
  {
   "cell_type": "code",
   "execution_count": null,
   "id": "85c5592b",
   "metadata": {},
   "outputs": [],
   "source": []
  },
  {
   "cell_type": "code",
   "execution_count": null,
   "id": "6bdc068d",
   "metadata": {},
   "outputs": [],
   "source": []
  }
 ],
 "metadata": {
  "kernelspec": {
   "display_name": "Python 3 (ipykernel)",
   "language": "python",
   "name": "python3"
  },
  "language_info": {
   "codemirror_mode": {
    "name": "ipython",
    "version": 3
   },
   "file_extension": ".py",
   "mimetype": "text/x-python",
   "name": "python",
   "nbconvert_exporter": "python",
   "pygments_lexer": "ipython3",
   "version": "3.10.1"
  }
 },
 "nbformat": 4,
 "nbformat_minor": 5
}
