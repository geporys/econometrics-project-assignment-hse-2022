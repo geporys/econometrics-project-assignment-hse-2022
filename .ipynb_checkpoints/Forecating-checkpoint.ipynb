{
 "cells": [
  {
   "cell_type": "code",
   "execution_count": 1,
   "id": "44491668",
   "metadata": {},
   "outputs": [],
   "source": [
    "import pandas as pd"
   ]
  },
  {
   "cell_type": "code",
   "execution_count": 21,
   "id": "b32c1548",
   "metadata": {},
   "outputs": [
    {
     "name": "stdout",
     "output_type": "stream",
     "text": [
      "Description\n",
      "Index Weights\n",
      "Monthly Indices\n",
      "Monthly Prices\n"
     ]
    }
   ],
   "source": [
    "df = pd.read_excel(\"CMO-Historical-Data-Monthly.xlsx\",sheet_name=\"Monthly Prices\", header=4);\n",
    "units = pd.Series(df.iloc[0])\n",
    "col_names = pd.Series(df.iloc[1])\n",
    "data = df.iloc[2:]"
   ]
  },
  {
   "cell_type": "code",
   "execution_count": 34,
   "id": "65c56bb9",
   "metadata": {},
   "outputs": [],
   "source": [
    "data.rename(columns=col_names, inplace=True)\n",
    "data.rename(columns={data.columns[0]:'MONTH'}, inplace=True)\n",
    "data[[]]"
   ]
  },
  {
   "cell_type": "code",
   "execution_count": 48,
   "id": "36d17a4b",
   "metadata": {},
   "outputs": [
    {
     "data": {
      "text/plain": [
       "2       1.630000\n",
       "3       1.630000\n",
       "4       1.630000\n",
       "5       1.630000\n",
       "6       1.630000\n",
       "         ...    \n",
       "754    88.220000\n",
       "755    90.326667\n",
       "756    87.376667\n",
       "757    78.066667\n",
       "758    80.410000\n",
       "Name: CRUDE_PETRO, Length: 757, dtype: float64"
      ]
     },
     "execution_count": 48,
     "metadata": {},
     "output_type": "execute_result"
    }
   ],
   "source": [
    "pd.to_numeric(data[list(data.columns)[1]])\n",
    "\n"
   ]
  },
  {
   "cell_type": "code",
   "execution_count": 49,
   "id": "0007f91e",
   "metadata": {},
   "outputs": [
    {
     "ename": "TypeError",
     "evalue": "list indices must be integers or slices, not str",
     "output_type": "error",
     "traceback": [
      "\u001b[1;31m---------------------------------------------------------------------------\u001b[0m",
      "\u001b[1;31mTypeError\u001b[0m                                 Traceback (most recent call last)",
      "Cell \u001b[1;32mIn[49], line 2\u001b[0m\n\u001b[0;32m      1\u001b[0m \u001b[38;5;28;01mfor\u001b[39;00m i \u001b[38;5;129;01min\u001b[39;00m \u001b[38;5;28mlist\u001b[39m(data\u001b[38;5;241m.\u001b[39mcolumns)[\u001b[38;5;241m2\u001b[39m:]:\n\u001b[1;32m----> 2\u001b[0m     pd\u001b[38;5;241m.\u001b[39mto_numeric(data[\u001b[38;5;28;43mlist\u001b[39;49m\u001b[43m(\u001b[49m\u001b[43mdata\u001b[49m\u001b[38;5;241;43m.\u001b[39;49m\u001b[43mcolumns\u001b[49m\u001b[43m)\u001b[49m\u001b[43m[\u001b[49m\u001b[43mi\u001b[49m\u001b[43m]\u001b[49m])\n\u001b[0;32m      3\u001b[0m data\u001b[38;5;241m.\u001b[39minfo()\n",
      "\u001b[1;31mTypeError\u001b[0m: list indices must be integers or slices, not str"
     ]
    }
   ],
   "source": [
    "for i in list(data.columns)[2:]:\n",
    "    pd.to_numeric(data[list(data.columns)[i]])\n",
    "data.info()"
   ]
  },
  {
   "cell_type": "code",
   "execution_count": null,
   "id": "ba9a80d9",
   "metadata": {},
   "outputs": [],
   "source": []
  }
 ],
 "metadata": {
  "kernelspec": {
   "display_name": "Python 3 (ipykernel)",
   "language": "python",
   "name": "python3"
  },
  "language_info": {
   "codemirror_mode": {
    "name": "ipython",
    "version": 3
   },
   "file_extension": ".py",
   "mimetype": "text/x-python",
   "name": "python",
   "nbconvert_exporter": "python",
   "pygments_lexer": "ipython3",
   "version": "3.10.1"
  }
 },
 "nbformat": 4,
 "nbformat_minor": 5
}
