{
 "cells": [
  {
   "cell_type": "code",
   "execution_count": 1,
   "id": "5c42c97a",
   "metadata": {},
   "outputs": [],
   "source": [
    "import json\n",
    "import geojson\n",
    "import gzip\n",
    "\n",
    "import pandas as pd\n",
    "import numpy as np\n",
    "import matplotlib.pyplot as plt\n",
    "import seaborn as sns\n",
    "import plotly.express as px\n",
    "import requests\n",
    "\n",
    "from sklearn.linear_model import LinearRegression, Ridge\n",
    "from sklearn.metrics import mean_absolute_error, mean_squared_error\n",
    "from sklearn.pipeline import make_pipeline, Pipeline\n",
    "from sklearn.compose import ColumnTransformer\n",
    "from sklearn.preprocessing import OneHotEncoder\n",
    "from sklearn.preprocessing import StandardScaler\n",
    "from sklearn.impute import SimpleImputer\n",
    "\n",
    "\n",
    "from sklearn.model_selection import train_test_split\n",
    "\n",
    "import statsmodels.api as sm\n",
    "import statsmodels.stats.api as sms\n",
    "from statsmodels.stats.diagnostic import het_white\n",
    "# from category_encoders import OneHotEncoder"
   ]
  },
  {
   "cell_type": "code",
   "execution_count": 2,
   "id": "2df6c728",
   "metadata": {},
   "outputs": [],
   "source": [
    "# Data set of Dubai Real Estate from 01/01/2021 till 11/01/2023\n",
    "df = pd.read_csv('transactions-2023-01-11.csv')  # https://dubailand.gov.ae/en/open-data/real-estate-data/#/"
   ]
  },
  {
   "cell_type": "code",
   "execution_count": 3,
   "id": "7ac3813a",
   "metadata": {},
   "outputs": [],
   "source": [
    "def impute_data(df):\n",
    "    df[\"Transaction Date\"] = pd.to_datetime(df[\"Transaction Date\"])\n",
    "    # Replace NaN values with Propety Type\n",
    "    df[\"Property Sub Type\"] = df[\"Property Sub Type\"].fillna(\"Land\")\n",
    "    # Replace Nan values where there is no closest Metro Station or Mall with \"No metro around\", \"No mall around\"\n",
    "    df[\"Nearest Metro\"] = df[\"Nearest Metro\"].fillna(\"No metro around\")\n",
    "    df[\"Nearest Mall\"] = df[\"Nearest Mall\"].fillna(\"No mall around\")\n",
    "    df[\"Nearest Landmark\"] = df[\"Nearest Landmark\"].fillna(\"No landmark around\")\n",
    "    return df"
   ]
  },
  {
   "cell_type": "code",
   "execution_count": 4,
   "id": "134416d9",
   "metadata": {},
   "outputs": [],
   "source": [
    "def drop_excess_columns(data):\n",
    "    # Drop high cardinality columns\n",
    "    data = data.drop(columns=[\"Transaction Number\", \"Property ID\", \"Transaction Size (sq.m)\", \"Parking\", \"Project\"])\n",
    "    # Drop low-cardinality columns\n",
    "    data = data.drop(columns=[\"Registration type\", \"Is Free Hold?\", \"Master Project\"])\n",
    "    # Drop leaky columns\n",
    "    data = data.drop(columns=[\"Transaction sub type\", \"Property Type\", \"Room(s)\", \"No. of Buyer\", \"No. of Seller\"])\n",
    "    return data"
   ]
  },
  {
   "cell_type": "code",
   "execution_count": 5,
   "id": "2f19ad47",
   "metadata": {},
   "outputs": [],
   "source": [
    "def get_oil_price():\n",
    "    # data from https://tradingeconomics.com/commodity/crude-oil\n",
    "    r = requests.get('https://markets.tradingeconomics.com/chart?s=cl1:com&interval=1d&span=5y&securify=new&url=/commodity/crude-oil&AUTH=8pTHKtPlPegH%2F6HowPfl8zp75wwc%2FNa1S0o8Y7yWDYKHEaMj%2FIlYM%2F7osRfkTcfZ&ohlc=0')\n",
    "    \n",
    "    oil_data = pd.DataFrame(r.json()['series'][0]['data']).rename(columns={\"y\": \"price\"})\n",
    "    oil_data = oil_data[(oil_data['date'] > '2021-03-01') & (oil_data['date'] < '2022-02-04')]\n",
    "\n",
    "    return oil_data\n",
    "    "
   ]
  },
  {
   "cell_type": "code",
   "execution_count": 6,
   "id": "142b2780",
   "metadata": {},
   "outputs": [],
   "source": [
    "# oil = get_oil_price()\n",
    "# oil"
   ]
  },
  {
   "cell_type": "code",
   "execution_count": 7,
   "id": "9ae2f1a6",
   "metadata": {},
   "outputs": [],
   "source": [
    "def drop_period_after_war(data):\n",
    "    war_date = '2022-02-24'\n",
    "    return data[data['Transaction Date'] < war_date]"
   ]
  },
  {
   "cell_type": "code",
   "execution_count": 8,
   "id": "fa0f2bff",
   "metadata": {},
   "outputs": [],
   "source": [
    "# create empty dictionary with columns as keys by list comprehension\n",
    "def quar_dict2(columns):  # takes as input list of column's names\n",
    "    dict_keys = {column: None for column in columns}\n",
    "    return dict_keys"
   ]
  },
  {
   "cell_type": "code",
   "execution_count": 9,
   "id": "e916504c",
   "metadata": {},
   "outputs": [],
   "source": [
    "def from_iterable(iterables):\n",
    "    # chain.from_iterable(['ABC', 'DEF']) --> A B C D E F\n",
    "    for it in iterables:\n",
    "        for element in it:\n",
    "            yield element"
   ]
  },
  {
   "cell_type": "code",
   "execution_count": 10,
   "id": "998b9823",
   "metadata": {},
   "outputs": [],
   "source": [
    "df = impute_data(df)\n",
    "df = drop_excess_columns(df)\n",
    "df = drop_period_after_war(df)\n",
    "df = df.drop(columns=[\"Transaction Date\"])\n",
    "df = df[df['Property Sub Type'].isin(\n",
    "    [\"Commercial\", \"Flat\", \n",
    "     \"Hotel Apartment\", \"Hotel Rooms\", \n",
    "     \"Office\", \"Residential\", \"Residential / Attached Villas\",\n",
    "     \"Residential Flats\", \"Stacked Townhouses\", \"Villa\"]\n",
    ")]\n",
    "df = df.merge(df[\"Area\"].value_counts(), left_on=\"Area\", right_index=True).drop(columns=\"Area_x\")\n",
    "df['Area'] = df['Area'].str.upper()"
   ]
  },
  {
   "cell_type": "code",
   "execution_count": 11,
   "id": "c49d35cd",
   "metadata": {},
   "outputs": [],
   "source": [
    "with open(\"dubai.geojson\") as f:  # https://www.kaggle.com/datasets/subhanahsan/dubai-neighborhoods?select=dubai.geojson\n",
    "    gj = geojson.load(f)\n",
    "features = gj['features']\n",
    "zones = pd.DataFrame.from_dict(features)[\"properties\"].apply(pd.Series).drop(columns=[\"CNAME_A\", \"COMMUNITY_A\", \"COMMUNITY_E\"])\n",
    "zones['CNAME_E'] = zones['CNAME_E'].str.upper()"
   ]
  },
  {
   "cell_type": "code",
   "execution_count": 12,
   "id": "9368f5fa",
   "metadata": {},
   "outputs": [],
   "source": [
    "# import urllib.request\n",
    "# from bs4 import BeautifulSoup\n",
    "\n",
    "# #specify the url\n",
    "# url = 'https://en.wikipedia.org/wiki/List_of_communities_in_Dubai'\n",
    "\n",
    "# #query the website and return the html to the variable ‘page’\n",
    "# page = urllib.request.urlopen(url)\n",
    "\n",
    "# #parse the html using beautiful soup and store in variable `soup`\n",
    "# soup = BeautifulSoup(page, 'html.parser')\n",
    "\n",
    "# #find all table elements from the web page\n",
    "# tables = soup.find_all('table')\n",
    "\n",
    "# #find table with class=\"wikitable sortable\"\n",
    "# table = soup.find('table', {'class':'wikitable sortable'})\n",
    "\n",
    "# #get all table rows\n",
    "# table_rows = table.find_all('tr')\n",
    "\n",
    "# #Iterate through table rows and get corresponding values\n",
    "# out=[]\n",
    "# for tr in table_rows:\n",
    "#     td = tr.find_all('td')\n",
    "#     row = [tr.text.strip() for tr in td if tr.text.strip()]\n",
    "#     if row:\n",
    "#         out.append(row)\n",
    "\n",
    "# # Create dataframe\n",
    "# codes = pd.DataFrame(out, columns=[\"Code\", \"Name\", \"3\", \"4\", \"5\", \"6\"]).drop(columns=[\"3\", \"4\", \"5\", \"6\"]).sort_values(\"Code\").reset_index(drop=True)\n",
    "# codes['Name'] = codes['Name'].str.upper()"
   ]
  },
  {
   "cell_type": "code",
   "execution_count": 13,
   "id": "18a84aa1",
   "metadata": {},
   "outputs": [
    {
     "name": "stdout",
     "output_type": "stream",
     "text": [
      "(99566, 10)\n"
     ]
    },
    {
     "data": {
      "text/html": [
       "<div>\n",
       "<style scoped>\n",
       "    .dataframe tbody tr th:only-of-type {\n",
       "        vertical-align: middle;\n",
       "    }\n",
       "\n",
       "    .dataframe tbody tr th {\n",
       "        vertical-align: top;\n",
       "    }\n",
       "\n",
       "    .dataframe thead th {\n",
       "        text-align: right;\n",
       "    }\n",
       "</style>\n",
       "<table border=\"1\" class=\"dataframe\">\n",
       "  <thead>\n",
       "    <tr style=\"text-align: right;\">\n",
       "      <th></th>\n",
       "      <th>Area</th>\n",
       "      <th>Transaction Type</th>\n",
       "      <th>Usage</th>\n",
       "      <th>Property Sub Type</th>\n",
       "      <th>Amount</th>\n",
       "      <th>Property Size (sq.m)</th>\n",
       "      <th>Nearest Metro</th>\n",
       "      <th>Nearest Mall</th>\n",
       "      <th>Nearest Landmark</th>\n",
       "      <th>Area_y</th>\n",
       "    </tr>\n",
       "  </thead>\n",
       "  <tbody>\n",
       "    <tr>\n",
       "      <th>0</th>\n",
       "      <td>AL BARARI</td>\n",
       "      <td>Mortgage</td>\n",
       "      <td>Residential</td>\n",
       "      <td>Flat</td>\n",
       "      <td>1435909.09</td>\n",
       "      <td>138.93</td>\n",
       "      <td>No metro around</td>\n",
       "      <td>No mall around</td>\n",
       "      <td>IMG World Adventures</td>\n",
       "      <td>691</td>\n",
       "    </tr>\n",
       "    <tr>\n",
       "      <th>1</th>\n",
       "      <td>AL BARARI</td>\n",
       "      <td>Mortgage</td>\n",
       "      <td>Residential</td>\n",
       "      <td>Flat</td>\n",
       "      <td>1435909.09</td>\n",
       "      <td>87.26</td>\n",
       "      <td>No metro around</td>\n",
       "      <td>No mall around</td>\n",
       "      <td>IMG World Adventures</td>\n",
       "      <td>691</td>\n",
       "    </tr>\n",
       "    <tr>\n",
       "      <th>2</th>\n",
       "      <td>AL BARARI</td>\n",
       "      <td>Mortgage</td>\n",
       "      <td>Residential</td>\n",
       "      <td>Flat</td>\n",
       "      <td>1435909.09</td>\n",
       "      <td>76.13</td>\n",
       "      <td>No metro around</td>\n",
       "      <td>No mall around</td>\n",
       "      <td>IMG World Adventures</td>\n",
       "      <td>691</td>\n",
       "    </tr>\n",
       "    <tr>\n",
       "      <th>3</th>\n",
       "      <td>AL BARARI</td>\n",
       "      <td>Mortgage</td>\n",
       "      <td>Residential</td>\n",
       "      <td>Flat</td>\n",
       "      <td>1435909.09</td>\n",
       "      <td>130.05</td>\n",
       "      <td>No metro around</td>\n",
       "      <td>No mall around</td>\n",
       "      <td>IMG World Adventures</td>\n",
       "      <td>691</td>\n",
       "    </tr>\n",
       "    <tr>\n",
       "      <th>4</th>\n",
       "      <td>AL BARARI</td>\n",
       "      <td>Mortgage</td>\n",
       "      <td>Residential</td>\n",
       "      <td>Flat</td>\n",
       "      <td>1435909.09</td>\n",
       "      <td>52.15</td>\n",
       "      <td>No metro around</td>\n",
       "      <td>No mall around</td>\n",
       "      <td>IMG World Adventures</td>\n",
       "      <td>691</td>\n",
       "    </tr>\n",
       "  </tbody>\n",
       "</table>\n",
       "</div>"
      ],
      "text/plain": [
       "        Area Transaction Type        Usage Property Sub Type      Amount  \\\n",
       "0  AL BARARI         Mortgage  Residential              Flat  1435909.09   \n",
       "1  AL BARARI         Mortgage  Residential              Flat  1435909.09   \n",
       "2  AL BARARI         Mortgage  Residential              Flat  1435909.09   \n",
       "3  AL BARARI         Mortgage  Residential              Flat  1435909.09   \n",
       "4  AL BARARI         Mortgage  Residential              Flat  1435909.09   \n",
       "\n",
       "   Property Size (sq.m)    Nearest Metro    Nearest Mall  \\\n",
       "0                138.93  No metro around  No mall around   \n",
       "1                 87.26  No metro around  No mall around   \n",
       "2                 76.13  No metro around  No mall around   \n",
       "3                130.05  No metro around  No mall around   \n",
       "4                 52.15  No metro around  No mall around   \n",
       "\n",
       "       Nearest Landmark  Area_y  \n",
       "0  IMG World Adventures     691  \n",
       "1  IMG World Adventures     691  \n",
       "2  IMG World Adventures     691  \n",
       "3  IMG World Adventures     691  \n",
       "4  IMG World Adventures     691  "
      ]
     },
     "execution_count": 13,
     "metadata": {},
     "output_type": "execute_result"
    }
   ],
   "source": [
    "print(df.shape)\n",
    "df.head()"
   ]
  },
  {
   "cell_type": "code",
   "execution_count": 14,
   "id": "078a28ea",
   "metadata": {},
   "outputs": [
    {
     "data": {
      "text/html": [
       "<div>\n",
       "<style scoped>\n",
       "    .dataframe tbody tr th:only-of-type {\n",
       "        vertical-align: middle;\n",
       "    }\n",
       "\n",
       "    .dataframe tbody tr th {\n",
       "        vertical-align: top;\n",
       "    }\n",
       "\n",
       "    .dataframe thead th {\n",
       "        text-align: right;\n",
       "    }\n",
       "</style>\n",
       "<table border=\"1\" class=\"dataframe\">\n",
       "  <thead>\n",
       "    <tr style=\"text-align: right;\">\n",
       "      <th></th>\n",
       "      <th>CNAME_E</th>\n",
       "      <th>COMM_NUM</th>\n",
       "      <th>SHAPE_AREA</th>\n",
       "      <th>SHAPE_LEN</th>\n",
       "      <th>Sector</th>\n",
       "      <th>Population 2018</th>\n",
       "      <th>Population 2019</th>\n",
       "      <th>Area Sq Km</th>\n",
       "      <th>Latitude</th>\n",
       "      <th>Longitude</th>\n",
       "    </tr>\n",
       "  </thead>\n",
       "  <tbody>\n",
       "    <tr>\n",
       "      <th>199</th>\n",
       "      <td>WADI AL SAFA 3</td>\n",
       "      <td>645</td>\n",
       "      <td>30192055.8013</td>\n",
       "      <td>29186.4146517</td>\n",
       "      <td>6</td>\n",
       "      <td>9599</td>\n",
       "      <td>9764</td>\n",
       "      <td>30.192307</td>\n",
       "      <td>25.108115</td>\n",
       "      <td>55.315494</td>\n",
       "    </tr>\n",
       "  </tbody>\n",
       "</table>\n",
       "</div>"
      ],
      "text/plain": [
       "            CNAME_E COMM_NUM     SHAPE_AREA      SHAPE_LEN Sector  \\\n",
       "199  WADI AL SAFA 3      645  30192055.8013  29186.4146517      6   \n",
       "\n",
       "     Population 2018  Population 2019  Area Sq Km   Latitude  Longitude  \n",
       "199             9599             9764   30.192307  25.108115  55.315494  "
      ]
     },
     "execution_count": 14,
     "metadata": {},
     "output_type": "execute_result"
    }
   ],
   "source": [
    "zones[zones[\"COMM_NUM\"].str.contains(\"645\")]"
   ]
  },
  {
   "cell_type": "code",
   "execution_count": 15,
   "id": "d9c0282f",
   "metadata": {},
   "outputs": [
    {
     "ename": "NameError",
     "evalue": "name 'codes' is not defined",
     "output_type": "error",
     "traceback": [
      "\u001b[1;31m---------------------------------------------------------------------------\u001b[0m",
      "\u001b[1;31mNameError\u001b[0m                                 Traceback (most recent call last)",
      "Cell \u001b[1;32mIn[15], line 1\u001b[0m\n\u001b[1;32m----> 1\u001b[0m \u001b[43mcodes\u001b[49m[codes[\u001b[38;5;124m\"\u001b[39m\u001b[38;5;124mCode\u001b[39m\u001b[38;5;124m\"\u001b[39m]\u001b[38;5;241m.\u001b[39mstr\u001b[38;5;241m.\u001b[39mcontains(\u001b[38;5;124m\"\u001b[39m\u001b[38;5;124m645\u001b[39m\u001b[38;5;124m\"\u001b[39m)]\n",
      "\u001b[1;31mNameError\u001b[0m: name 'codes' is not defined"
     ]
    }
   ],
   "source": [
    "codes[codes[\"Code\"].str.contains(\"645\")]"
   ]
  },
  {
   "cell_type": "code",
   "execution_count": null,
   "id": "a4943dae",
   "metadata": {},
   "outputs": [],
   "source": [
    "check = df.merge(zones, how='left', left_on=\"Area\", right_on=\"CNAME_E\")"
   ]
  },
  {
   "cell_type": "code",
   "execution_count": null,
   "id": "98652af4",
   "metadata": {},
   "outputs": [],
   "source": []
  },
  {
   "cell_type": "code",
   "execution_count": null,
   "id": "0478f64d",
   "metadata": {},
   "outputs": [],
   "source": [
    "zones"
   ]
  },
  {
   "cell_type": "code",
   "execution_count": null,
   "id": "8ba22648",
   "metadata": {
    "scrolled": true
   },
   "outputs": [],
   "source": [
    "#   https://www.dsc.gov.ae/en-us/Themes/Pages/Population-and-Vital-Statistics.aspx?Theme=42\n",
    "\n",
    "stat = pd.read_excel(\"DSC_SYB_2021_01_02.xlsx\", sheet_name=0, header=6)\n",
    "stat_cols = {\n",
    "    stat.columns[5]: \"Sector & Community\",\n",
    "    stat.columns[4]: \"Population Density (km2)\",\n",
    "    stat.columns[3]: \"Area (km2)\",\n",
    "    stat.columns[2]: \"Total population\",\n",
    "    stat.columns[6]: \"Community Code\",\n",
    "}\n",
    "stat = stat.rename(columns=stat_cols).drop(columns=stat.columns[:2]).dropna().reset_index(drop=True)\n",
    "stat.head()"
   ]
  },
  {
   "cell_type": "code",
   "execution_count": null,
   "id": "99591cc3",
   "metadata": {},
   "outputs": [],
   "source": [
    "aa = check[check[\"CNAME_E\"].isna()]\n",
    "aa[\"Area\"].value_counts(normalize=True).head(50).sum()"
   ]
  },
  {
   "cell_type": "code",
   "execution_count": null,
   "id": "c066e393",
   "metadata": {},
   "outputs": [],
   "source": [
    "aa[\"Area\"].value_counts(normalize=True)"
   ]
  },
  {
   "cell_type": "code",
   "execution_count": null,
   "id": "8835260b",
   "metadata": {},
   "outputs": [],
   "source": []
  }
 ],
 "metadata": {
  "kernelspec": {
   "display_name": "Python 3 (ipykernel)",
   "language": "python",
   "name": "python3"
  },
  "language_info": {
   "codemirror_mode": {
    "name": "ipython",
    "version": 3
   },
   "file_extension": ".py",
   "mimetype": "text/x-python",
   "name": "python",
   "nbconvert_exporter": "python",
   "pygments_lexer": "ipython3",
   "version": "3.8.0"
  }
 },
 "nbformat": 4,
 "nbformat_minor": 5
}
