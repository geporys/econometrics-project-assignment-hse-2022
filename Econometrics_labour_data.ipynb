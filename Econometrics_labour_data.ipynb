{
 "cells": [
  {
   "cell_type": "markdown",
   "id": "50fe49fa",
   "metadata": {},
   "source": [
    "Target: \n",
    "explore data, \n",
    "build basic linear regression that explains \"wage\", \n",
    "interpret results, \n",
    "conduct test for heteroskedasticity"
   ]
  },
  {
   "cell_type": "code",
   "execution_count": 1,
   "id": "639554c9",
   "metadata": {},
   "outputs": [],
   "source": [
    "import pandas as pd\n",
    "import numpy as np\n",
    "import matplotlib.pyplot as plt\n",
    "import matplotlib as mpl\n",
    "import statsmodels.api as sm\n",
    "from pandas.plotting import scatter_matrix\n",
    "from statsmodels.stats.diagnostic import het_white\n",
    "import seaborn as sns"
   ]
  },
  {
   "cell_type": "code",
   "execution_count": 2,
   "id": "5ebca422",
   "metadata": {},
   "outputs": [
    {
     "ename": "FileNotFoundError",
     "evalue": "[Errno 2] No such file or directory: 'Labour2.dta'",
     "output_type": "error",
     "traceback": [
      "\u001b[1;31m---------------------------------------------------------------------------\u001b[0m",
      "\u001b[1;31mFileNotFoundError\u001b[0m                         Traceback (most recent call last)",
      "Cell \u001b[1;32mIn[2], line 1\u001b[0m\n\u001b[1;32m----> 1\u001b[0m df \u001b[38;5;241m=\u001b[39m \u001b[43mpd\u001b[49m\u001b[38;5;241;43m.\u001b[39;49m\u001b[43mread_stata\u001b[49m\u001b[43m(\u001b[49m\u001b[38;5;124;43m\"\u001b[39;49m\u001b[38;5;124;43mLabour2.dta\u001b[39;49m\u001b[38;5;124;43m\"\u001b[39;49m\u001b[43m)\u001b[49m\n\u001b[0;32m      2\u001b[0m df\u001b[38;5;241m.\u001b[39mhead()\n",
      "File \u001b[1;32m~\\AppData\\Local\\Programs\\Python\\Python310\\lib\\site-packages\\pandas\\util\\_decorators.py:331\u001b[0m, in \u001b[0;36mdeprecate_nonkeyword_arguments.<locals>.decorate.<locals>.wrapper\u001b[1;34m(*args, **kwargs)\u001b[0m\n\u001b[0;32m    325\u001b[0m \u001b[38;5;28;01mif\u001b[39;00m \u001b[38;5;28mlen\u001b[39m(args) \u001b[38;5;241m>\u001b[39m num_allow_args:\n\u001b[0;32m    326\u001b[0m     warnings\u001b[38;5;241m.\u001b[39mwarn(\n\u001b[0;32m    327\u001b[0m         msg\u001b[38;5;241m.\u001b[39mformat(arguments\u001b[38;5;241m=\u001b[39m_format_argument_list(allow_args)),\n\u001b[0;32m    328\u001b[0m         \u001b[38;5;167;01mFutureWarning\u001b[39;00m,\n\u001b[0;32m    329\u001b[0m         stacklevel\u001b[38;5;241m=\u001b[39mfind_stack_level(),\n\u001b[0;32m    330\u001b[0m     )\n\u001b[1;32m--> 331\u001b[0m \u001b[38;5;28;01mreturn\u001b[39;00m func(\u001b[38;5;241m*\u001b[39margs, \u001b[38;5;241m*\u001b[39m\u001b[38;5;241m*\u001b[39mkwargs)\n",
      "File \u001b[1;32m~\\AppData\\Local\\Programs\\Python\\Python310\\lib\\site-packages\\pandas\\io\\stata.py:2020\u001b[0m, in \u001b[0;36mread_stata\u001b[1;34m(filepath_or_buffer, convert_dates, convert_categoricals, index_col, convert_missing, preserve_dtypes, columns, order_categoricals, chunksize, iterator, compression, storage_options)\u001b[0m\n\u001b[0;32m   2003\u001b[0m \u001b[38;5;129m@Appender\u001b[39m(_read_stata_doc)\n\u001b[0;32m   2004\u001b[0m \u001b[38;5;129m@deprecate_nonkeyword_arguments\u001b[39m(version\u001b[38;5;241m=\u001b[39m\u001b[38;5;28;01mNone\u001b[39;00m, allowed_args\u001b[38;5;241m=\u001b[39m[\u001b[38;5;124m\"\u001b[39m\u001b[38;5;124mfilepath_or_buffer\u001b[39m\u001b[38;5;124m\"\u001b[39m])\n\u001b[0;32m   2005\u001b[0m \u001b[38;5;28;01mdef\u001b[39;00m \u001b[38;5;21mread_stata\u001b[39m(\n\u001b[1;32m   (...)\u001b[0m\n\u001b[0;32m   2017\u001b[0m     storage_options: StorageOptions \u001b[38;5;241m=\u001b[39m \u001b[38;5;28;01mNone\u001b[39;00m,\n\u001b[0;32m   2018\u001b[0m ) \u001b[38;5;241m-\u001b[39m\u001b[38;5;241m>\u001b[39m DataFrame \u001b[38;5;241m|\u001b[39m StataReader:\n\u001b[1;32m-> 2020\u001b[0m     reader \u001b[38;5;241m=\u001b[39m \u001b[43mStataReader\u001b[49m\u001b[43m(\u001b[49m\n\u001b[0;32m   2021\u001b[0m \u001b[43m        \u001b[49m\u001b[43mfilepath_or_buffer\u001b[49m\u001b[43m,\u001b[49m\n\u001b[0;32m   2022\u001b[0m \u001b[43m        \u001b[49m\u001b[43mconvert_dates\u001b[49m\u001b[38;5;241;43m=\u001b[39;49m\u001b[43mconvert_dates\u001b[49m\u001b[43m,\u001b[49m\n\u001b[0;32m   2023\u001b[0m \u001b[43m        \u001b[49m\u001b[43mconvert_categoricals\u001b[49m\u001b[38;5;241;43m=\u001b[39;49m\u001b[43mconvert_categoricals\u001b[49m\u001b[43m,\u001b[49m\n\u001b[0;32m   2024\u001b[0m \u001b[43m        \u001b[49m\u001b[43mindex_col\u001b[49m\u001b[38;5;241;43m=\u001b[39;49m\u001b[43mindex_col\u001b[49m\u001b[43m,\u001b[49m\n\u001b[0;32m   2025\u001b[0m \u001b[43m        \u001b[49m\u001b[43mconvert_missing\u001b[49m\u001b[38;5;241;43m=\u001b[39;49m\u001b[43mconvert_missing\u001b[49m\u001b[43m,\u001b[49m\n\u001b[0;32m   2026\u001b[0m \u001b[43m        \u001b[49m\u001b[43mpreserve_dtypes\u001b[49m\u001b[38;5;241;43m=\u001b[39;49m\u001b[43mpreserve_dtypes\u001b[49m\u001b[43m,\u001b[49m\n\u001b[0;32m   2027\u001b[0m \u001b[43m        \u001b[49m\u001b[43mcolumns\u001b[49m\u001b[38;5;241;43m=\u001b[39;49m\u001b[43mcolumns\u001b[49m\u001b[43m,\u001b[49m\n\u001b[0;32m   2028\u001b[0m \u001b[43m        \u001b[49m\u001b[43morder_categoricals\u001b[49m\u001b[38;5;241;43m=\u001b[39;49m\u001b[43morder_categoricals\u001b[49m\u001b[43m,\u001b[49m\n\u001b[0;32m   2029\u001b[0m \u001b[43m        \u001b[49m\u001b[43mchunksize\u001b[49m\u001b[38;5;241;43m=\u001b[39;49m\u001b[43mchunksize\u001b[49m\u001b[43m,\u001b[49m\n\u001b[0;32m   2030\u001b[0m \u001b[43m        \u001b[49m\u001b[43mstorage_options\u001b[49m\u001b[38;5;241;43m=\u001b[39;49m\u001b[43mstorage_options\u001b[49m\u001b[43m,\u001b[49m\n\u001b[0;32m   2031\u001b[0m \u001b[43m        \u001b[49m\u001b[43mcompression\u001b[49m\u001b[38;5;241;43m=\u001b[39;49m\u001b[43mcompression\u001b[49m\u001b[43m,\u001b[49m\n\u001b[0;32m   2032\u001b[0m \u001b[43m    \u001b[49m\u001b[43m)\u001b[49m\n\u001b[0;32m   2034\u001b[0m     \u001b[38;5;28;01mif\u001b[39;00m iterator \u001b[38;5;129;01mor\u001b[39;00m chunksize:\n\u001b[0;32m   2035\u001b[0m         \u001b[38;5;28;01mreturn\u001b[39;00m reader\n",
      "File \u001b[1;32m~\\AppData\\Local\\Programs\\Python\\Python310\\lib\\site-packages\\pandas\\io\\stata.py:1163\u001b[0m, in \u001b[0;36mStataReader.__init__\u001b[1;34m(self, path_or_buf, convert_dates, convert_categoricals, index_col, convert_missing, preserve_dtypes, columns, order_categoricals, chunksize, compression, storage_options)\u001b[0m\n\u001b[0;32m   1160\u001b[0m \u001b[38;5;28mself\u001b[39m\u001b[38;5;241m.\u001b[39m_lines_read \u001b[38;5;241m=\u001b[39m \u001b[38;5;241m0\u001b[39m\n\u001b[0;32m   1162\u001b[0m \u001b[38;5;28mself\u001b[39m\u001b[38;5;241m.\u001b[39m_native_byteorder \u001b[38;5;241m=\u001b[39m _set_endianness(sys\u001b[38;5;241m.\u001b[39mbyteorder)\n\u001b[1;32m-> 1163\u001b[0m \u001b[38;5;28;01mwith\u001b[39;00m \u001b[43mget_handle\u001b[49m\u001b[43m(\u001b[49m\n\u001b[0;32m   1164\u001b[0m \u001b[43m    \u001b[49m\u001b[43mpath_or_buf\u001b[49m\u001b[43m,\u001b[49m\n\u001b[0;32m   1165\u001b[0m \u001b[43m    \u001b[49m\u001b[38;5;124;43m\"\u001b[39;49m\u001b[38;5;124;43mrb\u001b[39;49m\u001b[38;5;124;43m\"\u001b[39;49m\u001b[43m,\u001b[49m\n\u001b[0;32m   1166\u001b[0m \u001b[43m    \u001b[49m\u001b[43mstorage_options\u001b[49m\u001b[38;5;241;43m=\u001b[39;49m\u001b[43mstorage_options\u001b[49m\u001b[43m,\u001b[49m\n\u001b[0;32m   1167\u001b[0m \u001b[43m    \u001b[49m\u001b[43mis_text\u001b[49m\u001b[38;5;241;43m=\u001b[39;49m\u001b[38;5;28;43;01mFalse\u001b[39;49;00m\u001b[43m,\u001b[49m\n\u001b[0;32m   1168\u001b[0m \u001b[43m    \u001b[49m\u001b[43mcompression\u001b[49m\u001b[38;5;241;43m=\u001b[39;49m\u001b[43mcompression\u001b[49m\u001b[43m,\u001b[49m\n\u001b[0;32m   1169\u001b[0m \u001b[43m\u001b[49m\u001b[43m)\u001b[49m \u001b[38;5;28;01mas\u001b[39;00m handles:\n\u001b[0;32m   1170\u001b[0m     \u001b[38;5;66;03m# Copy to BytesIO, and ensure no encoding\u001b[39;00m\n\u001b[0;32m   1171\u001b[0m     \u001b[38;5;28mself\u001b[39m\u001b[38;5;241m.\u001b[39mpath_or_buf \u001b[38;5;241m=\u001b[39m BytesIO(handles\u001b[38;5;241m.\u001b[39mhandle\u001b[38;5;241m.\u001b[39mread())\n\u001b[0;32m   1173\u001b[0m \u001b[38;5;28mself\u001b[39m\u001b[38;5;241m.\u001b[39m_read_header()\n",
      "File \u001b[1;32m~\\AppData\\Local\\Programs\\Python\\Python310\\lib\\site-packages\\pandas\\io\\common.py:865\u001b[0m, in \u001b[0;36mget_handle\u001b[1;34m(path_or_buf, mode, encoding, compression, memory_map, is_text, errors, storage_options)\u001b[0m\n\u001b[0;32m    856\u001b[0m         handle \u001b[38;5;241m=\u001b[39m \u001b[38;5;28mopen\u001b[39m(\n\u001b[0;32m    857\u001b[0m             handle,\n\u001b[0;32m    858\u001b[0m             ioargs\u001b[38;5;241m.\u001b[39mmode,\n\u001b[1;32m   (...)\u001b[0m\n\u001b[0;32m    861\u001b[0m             newline\u001b[38;5;241m=\u001b[39m\u001b[38;5;124m\"\u001b[39m\u001b[38;5;124m\"\u001b[39m,\n\u001b[0;32m    862\u001b[0m         )\n\u001b[0;32m    863\u001b[0m     \u001b[38;5;28;01melse\u001b[39;00m:\n\u001b[0;32m    864\u001b[0m         \u001b[38;5;66;03m# Binary mode\u001b[39;00m\n\u001b[1;32m--> 865\u001b[0m         handle \u001b[38;5;241m=\u001b[39m \u001b[38;5;28;43mopen\u001b[39;49m\u001b[43m(\u001b[49m\u001b[43mhandle\u001b[49m\u001b[43m,\u001b[49m\u001b[43m \u001b[49m\u001b[43mioargs\u001b[49m\u001b[38;5;241;43m.\u001b[39;49m\u001b[43mmode\u001b[49m\u001b[43m)\u001b[49m\n\u001b[0;32m    866\u001b[0m     handles\u001b[38;5;241m.\u001b[39mappend(handle)\n\u001b[0;32m    868\u001b[0m \u001b[38;5;66;03m# Convert BytesIO or file objects passed with an encoding\u001b[39;00m\n",
      "\u001b[1;31mFileNotFoundError\u001b[0m: [Errno 2] No such file or directory: 'Labour2.dta'"
     ]
    }
   ],
   "source": [
    "df = pd.read_stata(\"Labour2.dta\")\n",
    "df.head()"
   ]
  },
  {
   "cell_type": "code",
   "execution_count": null,
   "id": "04e47e2d",
   "metadata": {},
   "outputs": [],
   "source": [
    "# firstly observe shape and size of the dataset\n",
    "print(df.shape)\n",
    "df.info()"
   ]
  },
  {
   "cell_type": "code",
   "execution_count": null,
   "id": "e472dca3",
   "metadata": {},
   "outputs": [],
   "source": [
    "df.describe()"
   ]
  },
  {
   "cell_type": "code",
   "execution_count": null,
   "id": "58d4d519",
   "metadata": {},
   "outputs": [],
   "source": [
    "df = df.drop(columns=\"obs\")"
   ]
  },
  {
   "cell_type": "code",
   "execution_count": null,
   "id": "6c4255d9",
   "metadata": {},
   "outputs": [],
   "source": [
    "# df.plot.scatter(x=\"capital\", y=\"wage\")\n",
    "# plt.xlabel(\"Capital\")\n",
    "# plt.ylabel(\"Wage\")\n",
    "# plt.title(\"Wage against Capital\");"
   ]
  },
  {
   "cell_type": "code",
   "execution_count": null,
   "id": "9430d79d",
   "metadata": {},
   "outputs": [],
   "source": [
    "# mask to filter 1 row with max(value) of \"capital\"\n",
    "print(df[df[\"capital\"] == max(df[\"capital\"])])\n"
   ]
  },
  {
   "cell_type": "code",
   "execution_count": null,
   "id": "d4a89fef",
   "metadata": {},
   "outputs": [],
   "source": [
    "# specify list of columns with outliers\n",
    "columns = list(df.columns)\n",
    "\n",
    "# create empty dictionary with columns as keys\n",
    "def quar_dict(columns):  # takes as input list of column names\n",
    "    quartiles = {}\n",
    "    for column in columns:\n",
    "        quartiles[column] = None\n",
    "    return quartiles\n",
    "\n",
    "# create empty dictionary with columns as keys by list comprehension\n",
    "def quar_dict2(columns):  # takes as input list of column's names\n",
    "    quartiles = {column: None for column in columns}\n",
    "    return quartiles\n",
    "\n",
    "# fill empty dictionary with percentiles\n",
    "def percentiles(empty_dict, columns, percentiles=[1, 99]):\n",
    "# takes empty_dictionary with column names as keys, columns as a list of column's names\n",
    "# more than 2 percentiles could be specified\n",
    "    for column in columns:\n",
    "        a = list(np.percentile(df[column], percentiles))\n",
    "        empty_dict[column] = a\n",
    "    return empty_dict\n",
    "\n",
    "# invoke functions above\n",
    "percentile = percentiles(quar_dict2(columns), columns, [0, 99])\n",
    "pd.DataFrame(percentile)"
   ]
  },
  {
   "cell_type": "code",
   "execution_count": null,
   "id": "251a2aff",
   "metadata": {},
   "outputs": [],
   "source": [
    "# Subset data: Remove outliers for specified columns\n",
    "def remove_out(df, dict_out):\n",
    "    df1 = df\n",
    "    for column in list(dict.keys(dict_out)):  # Expected that in given dict_out keys = column names\n",
    "        mask_area = df1[column].between(dict_out[column][0], dict_out[column][1])  \n",
    "        # Boolean series whether or not value between given percentiles (values in dict_out) fit\n",
    "        df1 = df1[mask_area]  # Masks applied one by one\n",
    "    print(f\"Number of lost rows {len(df.index) - len(df1.index)}\") # How many rows've been lost\n",
    "    return df1\n",
    "        \n",
    "        \n",
    "df1= remove_out(df, percentile)\n"
   ]
  },
  {
   "cell_type": "code",
   "execution_count": null,
   "id": "dde22e28",
   "metadata": {},
   "outputs": [],
   "source": [
    "# #  trimmed scatter\n",
    "# df1.plot.scatter(x=\"capital\", y=\"wage\")\n",
    "# plt.xlabel(\"Capital\")\n",
    "# plt.ylabel(\"Wage\")\n",
    "# plt.title(\"Wage against Capital\");"
   ]
  },
  {
   "cell_type": "code",
   "execution_count": null,
   "id": "23e2aefa",
   "metadata": {},
   "outputs": [],
   "source": [
    "# scatter_matrix(df, alpha=0.2, figsize=(6, 6), diagonal=\"kde\");"
   ]
  },
  {
   "cell_type": "code",
   "execution_count": null,
   "id": "78d205ad",
   "metadata": {},
   "outputs": [],
   "source": [
    "# scatter_matrix(df1, alpha=0.2, figsize=(6, 6), diagonal=\"kde\");"
   ]
  },
  {
   "cell_type": "code",
   "execution_count": null,
   "id": "6548873a",
   "metadata": {},
   "outputs": [],
   "source": [
    "# log_wage = np.log(df[\"wage\"])\n",
    "# log_wage.plot.hist();\n"
   ]
  },
  {
   "cell_type": "code",
   "execution_count": null,
   "id": "105262fa",
   "metadata": {},
   "outputs": [],
   "source": [
    "#  Divide dataset into dependent vector \"y\" and explanatory matrix \"X\"\n",
    "target = \"wage\"\n",
    "y = df1[target]\n",
    "# X = sm.add_constant(df1[\"capital\"])\n",
    "X = sm.add_constant(df1.drop(columns=target))"
   ]
  },
  {
   "cell_type": "code",
   "execution_count": null,
   "id": "01a4137d",
   "metadata": {},
   "outputs": [],
   "source": [
    "model = sm.OLS(y, X)\n",
    "results = model.fit()\n",
    "results.summary()"
   ]
  },
  {
   "cell_type": "markdown",
   "id": "3a1ee53f",
   "metadata": {},
   "source": [
    "TESTS FOR HETEROSKEDASTICITY"
   ]
  },
  {
   "cell_type": "code",
   "execution_count": null,
   "id": "607321a8",
   "metadata": {
    "scrolled": true
   },
   "outputs": [],
   "source": [
    "# Heteroskedasticity tests\n",
    "# White test\n",
    "residuals_array = results.resid\n",
    "\n",
    "#perform White's test\n",
    "white_test = sm.stats.diagnostic.het_white(residuals_array,  results.model.exog)\n",
    "\n",
    "#define labels to use for output of White's test\n",
    "labels = ['Test Statistic', 'Test Statistic p-value', 'F-Statistic', 'F-Test p-value']\n",
    "\n",
    "#print results of White's test\n",
    "print(dict(zip(labels, np.around(white_test, 2))))\n",
    "\n"
   ]
  },
  {
   "cell_type": "code",
   "execution_count": null,
   "id": "c14ba5ef",
   "metadata": {},
   "outputs": [],
   "source": [
    "# plotted residuals\n",
    "fig = plt.figure(figsize=(12,8))\n",
    "fig = sm.graphics.plot_regress_exog(results, 'capital', fig=fig);\n",
    "\n"
   ]
  },
  {
   "cell_type": "code",
   "execution_count": null,
   "id": "7e052b86",
   "metadata": {},
   "outputs": [],
   "source": [
    "#  trimmed scatter with regression line\n",
    "sns.regplot(x=\"capital\", y=\"wage\", data=df1)\n",
    "plt.xlabel(\"Capital\")\n",
    "plt.ylabel(\"Wage\")\n",
    "plt.title(\"Wage against Capital\");"
   ]
  },
  {
   "cell_type": "code",
   "execution_count": null,
   "id": "46ce934f",
   "metadata": {},
   "outputs": [],
   "source": [
    "# df1[\"wage\"] = np.log(df[\"wage\"])\n",
    "# # df1[\"capital\"] = np.log(df[\"capital\"])"
   ]
  },
  {
   "cell_type": "code",
   "execution_count": null,
   "id": "dc60da59",
   "metadata": {},
   "outputs": [],
   "source": [
    "# sns.regplot(x=\"capital\", y=\"wage\", data=df1)\n",
    "# plt.xlabel(\"Capital\")\n",
    "# plt.ylabel(\"Wage\")\n",
    "# plt.title(\"Wage against Capital\");"
   ]
  },
  {
   "cell_type": "code",
   "execution_count": null,
   "id": "56c51f88",
   "metadata": {},
   "outputs": [],
   "source": []
  }
 ],
 "metadata": {
  "kernelspec": {
   "display_name": "Python 3 (ipykernel)",
   "language": "python",
   "name": "python3"
  },
  "language_info": {
   "codemirror_mode": {
    "name": "ipython",
    "version": 3
   },
   "file_extension": ".py",
   "mimetype": "text/x-python",
   "name": "python",
   "nbconvert_exporter": "python",
   "pygments_lexer": "ipython3",
   "version": "3.10.1"
  }
 },
 "nbformat": 4,
 "nbformat_minor": 5
}
