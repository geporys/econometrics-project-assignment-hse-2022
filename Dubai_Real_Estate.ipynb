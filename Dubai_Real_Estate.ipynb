{
 "cells": [
  {
   "cell_type": "code",
   "execution_count": 49,
   "metadata": {},
   "outputs": [],
   "source": [
    "import pandas as pd\n",
    "import numpy as np\n",
    "import matplotlib.pyplot as plt\n",
    "\n",
    "import requests\n",
    "from sklearn.linear_model import LinearRegression, Ridge\n",
    "from sklearn.metrics import mean_absolute_error, mean_squared_error\n",
    "from sklearn.pipeline import make_pipeline, Pipeline\n",
    "from sklearn.compose import ColumnTransformer\n",
    "\n",
    "from sklearn.model_selection import train_test_split\n",
    "import statsmodels.api as sm\n",
    "from statsmodels.stats.diagnostic import het_white\n",
    "from category_encoders import OneHotEncoder"
   ]
  },
  {
   "cell_type": "code",
   "execution_count": 2,
   "metadata": {},
   "outputs": [],
   "source": [
    "# Data set of Dubai Real Estate from 01/01/2021 till 11/01/2023\n",
    "df = pd.read_csv('transactions-2023-01-11.csv')"
   ]
  },
  {
   "cell_type": "code",
   "execution_count": 3,
   "metadata": {},
   "outputs": [],
   "source": [
    "def impute_data(df):\n",
    "    df[\"Transaction Date\"] = pd.to_datetime(df[\"Transaction Date\"])\n",
    "    # Replace NaN values with Propety Type\n",
    "    df[\"Property Sub Type\"] = df[\"Property Sub Type\"].fillna(\"Land\")\n",
    "    # Replace Nan values where there is no closest Metro Station or Mall with \"No metro around\", \"No mall around\"\n",
    "    df[\"Nearest Metro\"] = df[\"Nearest Metro\"].fillna(\"No metro around\")\n",
    "    df[\"Nearest Mall\"] = df[\"Nearest Mall\"].fillna(\"No mall around\")\n",
    "    df[\"Nearest Landmark\"] = df[\"Nearest Landmark\"].fillna(\"No landmark around\")\n",
    "    return df"
   ]
  },
  {
   "cell_type": "code",
   "execution_count": 4,
   "metadata": {},
   "outputs": [],
   "source": [
    "def drop_excess_columns(data):\n",
    "    # Drop high cardinality columns\n",
    "    data = data.drop(columns=[\"Transaction Number\", \"Property ID\", \"Transaction Size (sq.m)\", \"Parking\", \"Project\"])\n",
    "    # Drop low-cardinality columns\n",
    "    data = data.drop(columns=[\"Registration type\", \"Is Free Hold?\", \"Master Project\"])\n",
    "    # Drop leaky columns\n",
    "    data = data.drop(columns=[\"Transaction sub type\", \"Property Type\", \"Room(s)\", \"No. of Buyer\", \"No. of Seller\"])\n",
    "    return data\n"
   ]
  },
  {
   "cell_type": "code",
   "execution_count": 5,
   "metadata": {},
   "outputs": [],
   "source": [
    "df = impute_data(df)\n",
    "df = drop_excess_columns(df)"
   ]
  },
  {
   "cell_type": "code",
   "execution_count": 6,
   "metadata": {},
   "outputs": [],
   "source": [
    "def get_oil_price():\n",
    "    # data from https://tradingeconomics.com/commodity/crude-oil\n",
    "    r = requests.get('https://markets.tradingeconomics.com/chart?s=cl1:com&interval=1w&span=5y&securify=new&url=/commodity/crude-oil&AUTH=nCUl2XKce%2BoKz2Gux8jbnsBR9lI4I5ttOWajwJM4oCel63SvMd94HQyeKvWrZV4R&ohlc=0')\n",
    "    oil_data = pd.DataFrame(r.json()['series'][0]['data']).rename(columns={\"y\": \"price\"})\n",
    "    oil_data = oil_data[(oil_data['date'] > '2020-12-31') & (oil_data['date'] < '2022-01-01')]\n",
    "\n",
    "    return oil_data\n",
    "    "
   ]
  },
  {
   "cell_type": "code",
   "execution_count": 7,
   "metadata": {},
   "outputs": [],
   "source": [
    "# oil_data = get_oil_price()\n",
    "# oil_data.head()"
   ]
  },
  {
   "cell_type": "code",
   "execution_count": 8,
   "metadata": {},
   "outputs": [],
   "source": [
    "def drop_period_after_war(data):\n",
    "    war_date = '2022-02-24'\n",
    "    return data[data['Transaction Date'] < war_date]"
   ]
  },
  {
   "cell_type": "code",
   "execution_count": 9,
   "metadata": {},
   "outputs": [],
   "source": [
    "df = drop_period_after_war(df)"
   ]
  },
  {
   "cell_type": "code",
   "execution_count": 10,
   "metadata": {},
   "outputs": [],
   "source": [
    "def split (target_col, df, test_size=0.2):\n",
    "    target = target_col  # takes name of target column as string\n",
    "    # subset target vector from explanatory matrix\n",
    "    y = df[target]  \n",
    "    X = df.drop(columns=[target, \"Transaction Date\"])\n",
    "\n",
    "    #  Performes train - test split\n",
    "    X_train, X_test, y_train, y_test = train_test_split(\n",
    "        X, y, test_size=test_size, random_state=42\n",
    "    )\n",
    "\n",
    "    # print(\"X_train shape:\", X_train.shape)\n",
    "    # print(\"y_train shape:\", y_train.shape)\n",
    "    # print(\"X_test shape:\", X_test.shape)\n",
    "    # print(\"y_test shape:\", y_test.shape)\n",
    "    return y, X, X_train, X_test, y_train, y_test"
   ]
  },
  {
   "cell_type": "code",
   "execution_count": 11,
   "metadata": {},
   "outputs": [],
   "source": [
    "def baseline ():\n",
    "    y_mean = y_train.mean()\n",
    "    y_pred_baseline = [y_mean] * len(y_train)\n",
    "\n",
    "    print(\"Mean apt price:\", round(y_mean, 2))\n",
    "\n",
    "    print(\"Baseline MSE:\", round(mean_squared_error(y_train, y_pred_baseline) / 1_000_000_000, 2), \"millions\")\n",
    "    pass"
   ]
  },
  {
   "cell_type": "code",
   "execution_count": 12,
   "metadata": {},
   "outputs": [],
   "source": [
    "def regression (explanatory_matrix, dependent_vector):\n",
    "    model = make_pipeline(\n",
    "        OneHotEncoder(use_cat_names=True),\n",
    "        Ridge()\n",
    "    ).fit(explanatory_matrix, dependent_vector)\n",
    "    return model"
   ]
  },
  {
   "cell_type": "code",
   "execution_count": 19,
   "metadata": {},
   "outputs": [],
   "source": [
    "y, X, X_train, X_test, y_train, y_test = split(\"Amount\", df)"
   ]
  },
  {
   "cell_type": "code",
   "execution_count": 20,
   "metadata": {},
   "outputs": [],
   "source": [
    "model = regression(X_train, y_train)"
   ]
  },
  {
   "cell_type": "code",
   "execution_count": 21,
   "metadata": {},
   "outputs": [],
   "source": [
    "coef = model.named_steps[\"ridge\"].coef_\n",
    "intercept = model.named_steps[\"ridge\"].intercept_"
   ]
  },
  {
   "cell_type": "code",
   "execution_count": 22,
   "metadata": {},
   "outputs": [],
   "source": [
    "y_pred_training = model.predict(X_train)\n",
    "residuals = y_train - y_pred_training\n",
    "# print(\"Training MSE:\", round(mean_squared_error(y_train, y_pred_training) / 1_000_000_000, 2), \"millions\")"
   ]
  },
  {
   "cell_type": "code",
   "execution_count": 44,
   "metadata": {},
   "outputs": [
    {
     "data": {
      "image/png": "[encoded data removed]",
      "text/plain": [
       "<Figure size 640x480 with 1 Axes>"
      ]
     },
     "metadata": {},
     "output_type": "display_data"
    }
   ],
   "source": [
    "low, high = residuals.quantile([0.1, 0.90])\n",
    "mask_area = residuals.between(low, high)\n",
    "trimmed_resid = residuals[mask_area]\n",
    "trimmed_resid.hist()\n",
    "plt.xlabel(\"Residuals\")\n",
    "plt.ylabel(\"Frequency\");"
   ]
  },
  {
   "cell_type": "markdown",
   "metadata": {},
   "source": [
    "Gauss-Markov Assumption's\n",
    "1. A1 => Expected value (disturbance) = 0\n",
    "2. A2 => {e1 .... en} and {x1 .... xn} are independent. Disturbance terms and explanatory variables are independent of each other\n",
    "3. A3 => Var{ei} = sigma^2 Variance of disturbances is constant\n",
    "4. A4 => Cov(ei, ej) = 0, Covariance between disturbances = 0"
   ]
  },
  {
   "cell_type": "markdown",
   "metadata": {},
   "source": [
    "\n",
    "Violation of A3 of Gauss-Markov assumption's => Disturbances aren't constant <br>\n",
    "HETEROSKEDASTICITY TEST'S:<br>\n",
    "1. White test\n",
    "2. Goldfeld-Quandt test\n",
    "3. Glejger test\n",
    "4. Breush-Pagan test"
   ]
  },
  {
   "cell_type": "code",
   "execution_count": 72,
   "metadata": {},
   "outputs": [],
   "source": [
    "transformed_set = OneHotEncoder(use_cat_names=True).fit(X_train).transform(X_train)\n",
    "transformed_set = sm.add_constant(transformed_set)"
   ]
  },
  {
   "cell_type": "code",
   "execution_count": 69,
   "metadata": {},
   "outputs": [
    {
     "ename": "MemoryError",
     "evalue": "Unable to allocate 44.0 GiB for an array with shape (69006, 85551) and data type float64",
     "output_type": "error",
     "traceback": [
      "\u001b[1;31m---------------------------------------------------------------------------\u001b[0m",
      "\u001b[1;31mMemoryError\u001b[0m                               Traceback (most recent call last)",
      "Cell \u001b[1;32mIn[69], line 2\u001b[0m\n\u001b[0;32m      1\u001b[0m \u001b[38;5;66;03m#perform White's test\u001b[39;00m\n\u001b[1;32m----> 2\u001b[0m white_test \u001b[38;5;241m=\u001b[39m \u001b[43msm\u001b[49m\u001b[38;5;241;43m.\u001b[39;49m\u001b[43mstats\u001b[49m\u001b[38;5;241;43m.\u001b[39;49m\u001b[43mdiagnostic\u001b[49m\u001b[38;5;241;43m.\u001b[39;49m\u001b[43mhet_white\u001b[49m\u001b[43m(\u001b[49m\u001b[43mnp\u001b[49m\u001b[38;5;241;43m.\u001b[39;49m\u001b[43marray\u001b[49m\u001b[43m(\u001b[49m\u001b[43mresiduals\u001b[49m\u001b[43m)\u001b[49m\u001b[43m,\u001b[49m\u001b[43m \u001b[49m\u001b[43mtransformed_set\u001b[49m\u001b[43m)\u001b[49m\n\u001b[0;32m      4\u001b[0m \u001b[38;5;66;03m#define labels to use for output of White's test\u001b[39;00m\n\u001b[0;32m      5\u001b[0m labels \u001b[38;5;241m=\u001b[39m [\u001b[38;5;124m'\u001b[39m\u001b[38;5;124mTest Statistic\u001b[39m\u001b[38;5;124m'\u001b[39m, \u001b[38;5;124m'\u001b[39m\u001b[38;5;124mTest Statistic p-value\u001b[39m\u001b[38;5;124m'\u001b[39m, \u001b[38;5;124m'\u001b[39m\u001b[38;5;124mF-Statistic\u001b[39m\u001b[38;5;124m'\u001b[39m, \u001b[38;5;124m'\u001b[39m\u001b[38;5;124mF-Test p-value\u001b[39m\u001b[38;5;124m'\u001b[39m]\n",
      "File \u001b[1;32m~\\AppData\\Local\\Programs\\Python\\Python310\\lib\\site-packages\\statsmodels\\stats\\diagnostic.py:863\u001b[0m, in \u001b[0;36mhet_white\u001b[1;34m(resid, exog)\u001b[0m\n\u001b[0;32m    861\u001b[0m nobs, nvars0 \u001b[38;5;241m=\u001b[39m x\u001b[38;5;241m.\u001b[39mshape\n\u001b[0;32m    862\u001b[0m i0, i1 \u001b[38;5;241m=\u001b[39m np\u001b[38;5;241m.\u001b[39mtriu_indices(nvars0)\n\u001b[1;32m--> 863\u001b[0m exog \u001b[38;5;241m=\u001b[39m x[:, i0] \u001b[38;5;241m*\u001b[39m \u001b[43mx\u001b[49m\u001b[43m[\u001b[49m\u001b[43m:\u001b[49m\u001b[43m,\u001b[49m\u001b[43m \u001b[49m\u001b[43mi1\u001b[49m\u001b[43m]\u001b[49m\n\u001b[0;32m    864\u001b[0m nobs, nvars \u001b[38;5;241m=\u001b[39m exog\u001b[38;5;241m.\u001b[39mshape\n\u001b[0;32m    865\u001b[0m \u001b[38;5;28;01massert\u001b[39;00m nvars \u001b[38;5;241m==\u001b[39m nvars0 \u001b[38;5;241m*\u001b[39m (nvars0 \u001b[38;5;241m-\u001b[39m \u001b[38;5;241m1\u001b[39m) \u001b[38;5;241m/\u001b[39m \u001b[38;5;241m2.\u001b[39m \u001b[38;5;241m+\u001b[39m nvars0\n",
      "\u001b[1;31mMemoryError\u001b[0m: Unable to allocate 44.0 GiB for an array with shape (69006, 85551) and data type float64"
     ]
    }
   ],
   "source": [
    "#perform White's test\n",
    "white_test = sm.stats.diagnostic.het_white(np.array(residuals), transformed_set)\n",
    "\n",
    "#define labels to use for output of White's test\n",
    "labels = ['Test Statistic', 'Test Statistic p-value', 'F-Statistic', 'F-Test p-value']\n",
    "\n",
    "#print results of White's test\n",
    "print(dict(zip(labels, np.around(white_test, 2))))"
   ]
  },
  {
   "cell_type": "code",
   "execution_count": 73,
   "metadata": {},
   "outputs": [
    {
     "name": "stdout",
     "output_type": "stream",
     "text": [
      "<class 'pandas.core.frame.DataFrame'>\n",
      "Int64Index: 85551 entries, 28905 to 30269\n",
      "Columns: 371 entries, const to Nearest Landmark_Jabel Ali\n",
      "dtypes: float64(2), int64(369)\n",
      "memory usage: 242.8 MB\n"
     ]
    }
   ],
   "source": [
    "transformed_set.info()"
   ]
  },
  {
   "cell_type": "code",
   "execution_count": null,
   "metadata": {},
   "outputs": [],
   "source": []
  }
 ],
 "metadata": {
  "kernelspec": {
   "display_name": "Python 3 (ipykernel)",
   "language": "python",
   "name": "python3"
  },
  "language_info": {
   "codemirror_mode": {
    "name": "ipython",
    "version": 3
   },
   "file_extension": ".py",
   "mimetype": "text/x-python",
   "name": "python",
   "nbconvert_exporter": "python",
   "pygments_lexer": "ipython3",
   "version": "3.8.0"
  }
 },
 "nbformat": 4,
 "nbformat_minor": 4
}
