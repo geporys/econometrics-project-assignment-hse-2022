{
 "cells": [
  {
   "cell_type": "markdown",
   "id": "3711b39a",
   "metadata": {},
   "source": [
    "DUBAI DATA WAS USED"
   ]
  },
  {
   "cell_type": "code",
   "execution_count": null,
   "id": "a1a82629",
   "metadata": {},
   "outputs": [],
   "source": [
    "def split (df, target=\"Amount\"):\n",
    "    # subset target vector from explanatory matrix\n",
    "    target = target\n",
    "    y = df[target]  \n",
    "    X = df.drop(columns=[target])\n",
    "    return y, X\n"
   ]
  },
  {
   "cell_type": "code",
   "execution_count": null,
   "id": "27c02ba3",
   "metadata": {},
   "outputs": [],
   "source": [
    "y, X = split(df, target=\"Amount\")\n",
    "X.head()"
   ]
  },
  {
   "cell_type": "code",
   "execution_count": null,
   "id": "233803fe",
   "metadata": {},
   "outputs": [],
   "source": [
    "# Get numeric and categorical features\n",
    "num_features = list(X._get_numeric_data().columns)\n",
    "cat_features = list(set(X.columns) - set(num_features))"
   ]
  },
  {
   "cell_type": "code",
   "execution_count": null,
   "id": "510a881f",
   "metadata": {},
   "outputs": [],
   "source": [
    "numeric_transformer = Pipeline(\n",
    "    steps=[(\"imputer\", SimpleImputer(strategy=\"median\"))]\n",
    ")\n",
    "\n",
    "categorical_transformer = Pipeline(\n",
    "    steps=[(\"encoder\", OneHotEncoder(handle_unknown=\"ignore\"))]\n",
    ")\n",
    "\n",
    "preprocessor = ColumnTransformer(\n",
    "    transformers=[\n",
    "        (\"num\", numeric_transformer, num_features),\n",
    "        (\"cat\", categorical_transformer, cat_features),\n",
    "    ]\n",
    ")"
   ]
  },
  {
   "cell_type": "code",
   "execution_count": null,
   "id": "c5a827f3",
   "metadata": {},
   "outputs": [],
   "source": [
    "model = Pipeline(\n",
    "    steps=[(\"preprocessor\", preprocessor), (\"regression\", LinearRegression())]\n",
    ")\n",
    "\n",
    "X_train, X_test, y_train, y_test = train_test_split(X, y, test_size=0.2, random_state=0)\n",
    "\n",
    "model.fit(X_train, y_train)\n"
   ]
  },
  {
   "cell_type": "code",
   "execution_count": null,
   "id": "80966afe",
   "metadata": {},
   "outputs": [],
   "source": [
    "print(\"model score: %.3f (R-squared)\" % model.score(X_test, y_test))"
   ]
  },
  {
   "cell_type": "code",
   "execution_count": null,
   "id": "a875fa84",
   "metadata": {},
   "outputs": [],
   "source": []
  }
 ],
 "metadata": {
  "kernelspec": {
   "display_name": "Python 3 (ipykernel)",
   "language": "python",
   "name": "python3"
  },
  "language_info": {
   "codemirror_mode": {
    "name": "ipython",
    "version": 3
   },
   "file_extension": ".py",
   "mimetype": "text/x-python",
   "name": "python",
   "nbconvert_exporter": "python",
   "pygments_lexer": "ipython3",
   "version": "3.10.1"
  }
 },
 "nbformat": 4,
 "nbformat_minor": 5
}
